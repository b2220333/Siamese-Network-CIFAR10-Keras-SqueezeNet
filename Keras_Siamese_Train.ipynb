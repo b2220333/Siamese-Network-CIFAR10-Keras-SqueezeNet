{
  "nbformat": 4,
  "nbformat_minor": 0,
  "metadata": {
    "colab": {
      "name": "MNIST_Siamese.ipynb",
      "version": "0.3.2",
      "provenance": []
    },
    "kernelspec": {
      "name": "python3",
      "display_name": "Python 3"
    },
    "accelerator": "GPU"
  },
  "cells": [
    {
      "metadata": {
        "id": "CTK8AzSoOLHC",
        "colab_type": "code",
        "colab": {
          "base_uri": "https://localhost:8080/",
          "height": 51
        },
        "outputId": "8798ea94-c1e3-4026-f8cd-ca2372ecb2dd"
      },
      "cell_type": "code",
      "source": [
        "from google.colab import drive\n",
        "drive.mount('gdrive')\n",
        "%cd gdrive/My\\ Drive/colab"
      ],
      "execution_count": 3,
      "outputs": [
        {
          "output_type": "stream",
          "text": [
            "Mounted at gdrive\n",
            "/content/gdrive/My Drive/colab\n"
          ],
          "name": "stdout"
        }
      ]
    },
    {
      "metadata": {
        "id": "BUR22xJrEUau",
        "colab_type": "code",
        "colab": {}
      },
      "cell_type": "code",
      "source": [
        "%matplotlib inline"
      ],
      "execution_count": 0,
      "outputs": []
    },
    {
      "metadata": {
        "id": "_z7JbN82EUax",
        "colab_type": "code",
        "outputId": "7ad0035d-f12b-4a68-ca5f-d93f73e06985",
        "colab": {
          "base_uri": "https://localhost:8080/",
          "height": 34
        }
      },
      "cell_type": "code",
      "source": [
        "import numpy as np\n",
        "import random\n",
        "from keras.datasets import mnist\n",
        "from keras.datasets import cifar10\n",
        "from keras.models import Model\n",
        "from keras.layers import Input, Flatten, Dense, Dropout, Lambda, Conv2D\n",
        "from keras.layers import MaxPooling2D, BatchNormalization, GlobalAveragePooling2D\n",
        "from keras.layers import Activation, Concatenate\n",
        "from keras import optimizers\n",
        "from keras.optimizers import RMSprop\n",
        "from keras.optimizers import SGD\n",
        "from keras import backend as K\n",
        "from keras.models import load_model\n",
        "from keras.utils import to_categorical\n",
        "from keras.utils.vis_utils import plot_model, model_to_dot\n",
        "from keras.preprocessing.image import ImageDataGenerator\n",
        "from keras.callbacks import LearningRateScheduler, EarlyStopping, ModelCheckpoint\n",
        "from sklearn.model_selection import train_test_split\n",
        "\n",
        "from IPython.display import SVG\n",
        "from matplotlib import pyplot as plt\n",
        "import math"
      ],
      "execution_count": 5,
      "outputs": [
        {
          "output_type": "stream",
          "text": [
            "Using TensorFlow backend.\n"
          ],
          "name": "stderr"
        }
      ]
    },
    {
      "metadata": {
        "id": "-JtkM0D2EUa1",
        "colab_type": "code",
        "colab": {}
      },
      "cell_type": "code",
      "source": [
        "import os\n",
        "os.environ['KMP_DUPLICATE_LIB_OK']='True'"
      ],
      "execution_count": 0,
      "outputs": []
    },
    {
      "metadata": {
        "id": "Hqigkp4sEUa3",
        "colab_type": "code",
        "colab": {}
      },
      "cell_type": "code",
      "source": [
        "num_classes = 10\n",
        "epochs = 100\n"
      ],
      "execution_count": 0,
      "outputs": []
    },
    {
      "metadata": {
        "id": "72yHL_XFEUa5",
        "colab_type": "code",
        "colab": {}
      },
      "cell_type": "code",
      "source": [
        "def euclidean_distance(vects):\n",
        "    x,y = vects\n",
        "    sum_square = K.sum(K.square(x-y), axis=1, keepdims=True)\n",
        "    return K.sqrt(K.maximum(sum_square, K.epsilon()))"
      ],
      "execution_count": 0,
      "outputs": []
    },
    {
      "metadata": {
        "id": "4u0pVtfoEUa7",
        "colab_type": "code",
        "colab": {}
      },
      "cell_type": "code",
      "source": [
        "def eucl_dist_output_shape(shapes):\n",
        "    shape1, shape2 = shapes\n",
        "    return (shape1[0], 1)"
      ],
      "execution_count": 0,
      "outputs": []
    },
    {
      "metadata": {
        "id": "FpheSpdBEUa9",
        "colab_type": "code",
        "colab": {}
      },
      "cell_type": "code",
      "source": [
        "def contrastive_loss(y_true, y_pred):\n",
        "    margin = 1\n",
        "    square_pred = K.square(y_pred)\n",
        "    margin_square = K.square(K.maximum(margin - y_pred, 0))\n",
        "    return K.mean(y_true * square_pred + (1-y_true) * margin_square)\n"
      ],
      "execution_count": 0,
      "outputs": []
    },
    {
      "metadata": {
        "id": "K6L7di_sEUbA",
        "colab_type": "code",
        "colab": {}
      },
      "cell_type": "code",
      "source": [
        "def create_pairs(x, digit_indices):\n",
        "    \n",
        "    pairs = []\n",
        "    labels = []\n",
        "    n = min([len(digit_indices[d]) for d in range(num_classes)]) - 1\n",
        "    for d in range(num_classes):\n",
        "        for i in range(n):\n",
        "            z1, z2 = digit_indices[d][i], digit_indices[d][i + 1]\n",
        "            pairs += [[x[z1], x[z2]]] # positive sample\n",
        "            inc = random.randrange(1, num_classes)\n",
        "            dn = (d + inc) % num_classes\n",
        "            z1, z2 = digit_indices[d][i], digit_indices[dn][i] # negative sample\n",
        "            pairs += [[x[z1], x[z2]]]\n",
        "            labels += [1, 0]\n",
        "    return np.array(pairs), np.array(labels)\n"
      ],
      "execution_count": 0,
      "outputs": []
    },
    {
      "metadata": {
        "id": "R_u_mZnts4jO",
        "colab_type": "code",
        "colab": {}
      },
      "cell_type": "code",
      "source": [
        "def create_pairs_per_class(x, digit_indices, class_1, class_2):\n",
        "    pairs = []\n",
        "    labels = []\n",
        "    n = min([len(digit_indices[d]) for d in range(num_classes)]) - 1\n",
        "    for i in range(n):\n",
        "        z1, z2 = digit_indices[class_1][i], digit_indices[class_1][i + 1]\n",
        "        pairs += [[x[z1], x[z2]]] # positive sample\n",
        "        z1, z2 = digit_indices[class_1][i], digit_indices[class_2][i] # negative sample\n",
        "        pairs += [[x[z1], x[z2]]]\n",
        "        labels += [1, 0]\n",
        "    return np.array(pairs), np.array(labels)"
      ],
      "execution_count": 0,
      "outputs": []
    },
    {
      "metadata": {
        "id": "VhSX_s4J51Hy",
        "colab_type": "code",
        "colab": {}
      },
      "cell_type": "code",
      "source": [
        "# def create_base_network(input_shape):\n",
        "#     '''Base network to be shared (eq. to feature extraction).\n",
        "#     '''\n",
        "#     input = Input(shape=input_shape)\n",
        "#     x = Flatten()(input)\n",
        "#     x = Dense(128, activation='relu')(x)\n",
        "#     x = Dropout(0.1)(x)\n",
        "#     x = Dense(128, activation='relu')(x)\n",
        "#     x = Dropout(0.1)(x)\n",
        "#     x = Dense(128, activation='relu')(x)\n",
        "#     return Model(input, x)\n",
        "  "
      ],
      "execution_count": 0,
      "outputs": []
    },
    {
      "metadata": {
        "id": "q5n5UpyNEUbC",
        "colab_type": "code",
        "colab": {}
      },
      "cell_type": "code",
      "source": [
        "def fire_module(x, s1x1, e1x1, e3x3, name):\n",
        "    #Squeeze layer\n",
        "    squeeze = Conv2D(s1x1, (1, 1), activation='relu', padding='valid', kernel_initializer='glorot_uniform', name = name + 's1x1')(x)\n",
        "    squeeze_bn = BatchNormalization(name=name+'sbn')(squeeze)\n",
        "    \n",
        "    #Expand 1x1 layer and 3x3 layer are parallel\n",
        "\n",
        "    #Expand 1x1 layer\n",
        "    expand1x1 = Conv2D(e1x1, (1, 1), activation='relu', padding='valid', kernel_initializer='glorot_uniform', name = name + 'e1x1')(squeeze_bn)\n",
        "    \n",
        "    #Expand 3x3 layer\n",
        "    expand3x3 = Conv2D(e3x3, (3, 3), activation='relu', padding='same', kernel_initializer='glorot_uniform', name = name +  'e3x3')(squeeze_bn)\n",
        "    \n",
        "    #Concatenate expand1x1 and expand 3x3 at filters\n",
        "    output = Concatenate(axis = 3, name=name)([expand1x1, expand3x3])\n",
        "    \n",
        "    return output\n",
        "  \n",
        "def SqueezeNet(input_shape):\n",
        "    inputs = Input(shape=input_shape)\n",
        "    conv1 = Conv2D(96, kernel_size=(3, 3), strides=(2, 2),  padding='same', activation='relu', name = 'Conv1')(inputs)\n",
        "    maxpool1 = MaxPooling2D(pool_size=(2, 2), strides=(2, 2), name='Maxpool1')(conv1)\n",
        "    batch1 = BatchNormalization(name='Batch1')(maxpool1)\n",
        "#     fire2 = fire_module(batch1, 16, 64, 64, \"Fire2\")\n",
        "#     fire3 = fire_module(fire2, 16, 64, 64, \"Fire3\")\n",
        "    fire4 = fire_module(batch1, 32, 128, 128, \"Fire2\")\n",
        "    maxpool4 = MaxPooling2D(pool_size=(3, 3), strides=(2, 2), name='Maxpool2')(fire4)\n",
        "#     fire5 = fire_module(maxpool4, 32, 128, 128, \"Fire5\")\n",
        "    fire6 = fire_module(maxpool4, 48, 192, 192, \"Fire3\")\n",
        "    fire7 = fire_module(fire6, 48, 192, 192, \"Fire4\")\n",
        "    fire8 = fire_module(fire7, 48, 192, 192, \"Fire5\")\n",
        "    maxpool8 = MaxPooling2D(pool_size=(3, 3), strides=(2, 2), name='Maxpool5')(fire8)\n",
        "#     fire9 = fire_module(maxpool8, 64, 256, 256, \"Fire9\")\n",
        "    dropout = Dropout(0.5, name=\"Dropout\")(maxpool8)\n",
        "    conv10 = Conv2D(10, kernel_size=(1, 1), strides=(1, 1), padding='same', activation='relu', name='Conv6')(dropout)\n",
        "    batch10 = BatchNormalization(name='Batch6')(conv10)\n",
        "    avgpool10 = GlobalAveragePooling2D(name='GlobalAvgPool6')(batch10)\n",
        "    #softmax = Activation('softmax')(avgpool10)\n",
        "    \n",
        "    squeezenet = Model(inputs=inputs, outputs=avgpool10)\n",
        "    return squeezenet\n",
        "  \n",
        "def create_base_network(input_shape):\n",
        "    '''Base network to be shared (eq. to feature extraction).\n",
        "    '''\n",
        "    return SqueezeNet(input_shape)"
      ],
      "execution_count": 0,
      "outputs": []
    },
    {
      "metadata": {
        "id": "xvzCMJGiEUbF",
        "colab_type": "code",
        "colab": {}
      },
      "cell_type": "code",
      "source": [
        "def compute_accuracy(y_true, y_pred):\n",
        "    '''Compute classification accuracy with a fixed threshold on distances.\n",
        "    '''\n",
        "    pred = y_pred.ravel() < 0.5\n",
        "    return np.mean(pred == y_true)\n"
      ],
      "execution_count": 0,
      "outputs": []
    },
    {
      "metadata": {
        "id": "jmga8pWmEUbI",
        "colab_type": "code",
        "colab": {}
      },
      "cell_type": "code",
      "source": [
        "def accuracy(y_true, y_pred):\n",
        "    '''Compute classification accuracy with a fixed threshold on distances.\n",
        "    '''\n",
        "    return K.mean(K.equal(y_true, K.cast(y_pred < 0.5, y_true.dtype)))"
      ],
      "execution_count": 0,
      "outputs": []
    },
    {
      "metadata": {
        "id": "WibUKs-GEUbJ",
        "colab_type": "code",
        "colab": {
          "base_uri": "https://localhost:8080/",
          "height": 68
        },
        "outputId": "2ad31a0f-cf03-45e4-e19a-ee1c7b21ee25"
      },
      "cell_type": "code",
      "source": [
        "#(x_train, y_train), (x_test, y_test) = mnist.load_data()\n",
        "(x_train, y_train), (x_test, y_test) = cifar10.load_data()\n",
        "x_train = x_train.astype('float32')\n",
        "x_test = x_test.astype('float32')\n",
        "x_train /= 255\n",
        "x_test /= 255\n",
        "input_shape = x_train.shape[1:]\n",
        "print(input_shape)"
      ],
      "execution_count": 16,
      "outputs": [
        {
          "output_type": "stream",
          "text": [
            "Downloading data from https://www.cs.toronto.edu/~kriz/cifar-10-python.tar.gz\n",
            "170500096/170498071 [==============================] - 16s 0us/step\n",
            "(32, 32, 3)\n"
          ],
          "name": "stdout"
        }
      ]
    },
    {
      "metadata": {
        "id": "YDFXgDgZEUbM",
        "colab_type": "code",
        "colab": {}
      },
      "cell_type": "code",
      "source": [
        "digit_indices = [np.where(y_train == i)[0] for i in range(num_classes)]\n",
        "tr_pairs, tr_y = create_pairs(x_train, digit_indices)\n",
        "\n",
        "digit_indices = [np.where(y_test == i)[0] for i in range(num_classes)]\n",
        "te_pairs, te_y = create_pairs(x_test, digit_indices)"
      ],
      "execution_count": 0,
      "outputs": []
    },
    {
      "metadata": {
        "id": "fgpUEYS6EUbP",
        "colab_type": "code",
        "outputId": "0e4eb5e5-be50-4c4b-fa75-b8c27bacbd00",
        "colab": {
          "base_uri": "https://localhost:8080/",
          "height": 51
        }
      },
      "cell_type": "code",
      "source": [
        "print(\"Shape of training pairs\", tr_pairs.shape)\n",
        "print(\"Shape of training labels\", tr_y.shape)"
      ],
      "execution_count": 18,
      "outputs": [
        {
          "output_type": "stream",
          "text": [
            "Shape of training pairs (99980, 2, 32, 32, 3)\n",
            "Shape of training labels (99980,)\n"
          ],
          "name": "stdout"
        }
      ]
    },
    {
      "metadata": {
        "id": "HMVSEFulEUbS",
        "colab_type": "code",
        "colab": {}
      },
      "cell_type": "code",
      "source": [
        "# network definition\n",
        "base_network = create_base_network(input_shape)\n",
        "\n",
        "input_a = Input(shape=input_shape, name='input_a')\n",
        "input_b = Input(shape=input_shape, name='input_b')\n",
        "\n",
        "# because we re-use the same instance `base_network`,\n",
        "# the weights of the network\n",
        "# will be shared across the two branches\n",
        "processed_a = base_network(input_a)\n",
        "processed_b = base_network(input_b)\n",
        "\n",
        "distance = Lambda(euclidean_distance,\n",
        "                  output_shape=eucl_dist_output_shape)([processed_a, processed_b])\n",
        "\n",
        "model = Model([input_a, input_b], distance)\n"
      ],
      "execution_count": 0,
      "outputs": []
    },
    {
      "metadata": {
        "id": "XbVn7PIJHtE9",
        "colab_type": "code",
        "colab": {
          "base_uri": "https://localhost:8080/",
          "height": 2861
        },
        "outputId": "185bea41-d34e-4fa3-97cc-de780a9c5e53"
      },
      "cell_type": "code",
      "source": [
        "SVG(model_to_dot(base_network, show_layer_names=True, show_shapes=True).create(prog='dot', format='svg'))"
      ],
      "execution_count": 90,
      "outputs": [
        {
          "output_type": "execute_result",
          "data": {
            "text/plain": [
              "<IPython.core.display.SVG object>"
            ],
            "image/svg+xml": "<svg height=\"2130pt\" viewBox=\"0.00 0.00 642.00 2130.00\" width=\"642pt\" xmlns=\"http://www.w3.org/2000/svg\" xmlns:xlink=\"http://www.w3.org/1999/xlink\">\n<g class=\"graph\" id=\"graph0\" transform=\"scale(1 1) rotate(0) translate(4 2126)\">\n<title>G</title>\n<polygon fill=\"#ffffff\" points=\"-4,4 -4,-2126 638,-2126 638,4 -4,4\" stroke=\"transparent\"/>\n<!-- 140547007483744 -->\n<g class=\"node\" id=\"node1\">\n<title>140547007483744</title>\n<polygon fill=\"none\" points=\"163,-2075.5 163,-2121.5 471,-2121.5 471,-2075.5 163,-2075.5\" stroke=\"#000000\"/>\n<text fill=\"#000000\" font-family=\"Times,serif\" font-size=\"14.00\" text-anchor=\"middle\" x=\"229.5\" y=\"-2094.8\">input_4: InputLayer</text>\n<polyline fill=\"none\" points=\"296,-2075.5 296,-2121.5 \" stroke=\"#000000\"/>\n<text fill=\"#000000\" font-family=\"Times,serif\" font-size=\"14.00\" text-anchor=\"middle\" x=\"325\" y=\"-2106.3\">input:</text>\n<polyline fill=\"none\" points=\"296,-2098.5 354,-2098.5 \" stroke=\"#000000\"/>\n<text fill=\"#000000\" font-family=\"Times,serif\" font-size=\"14.00\" text-anchor=\"middle\" x=\"325\" y=\"-2083.3\">output:</text>\n<polyline fill=\"none\" points=\"354,-2075.5 354,-2121.5 \" stroke=\"#000000\"/>\n<text fill=\"#000000\" font-family=\"Times,serif\" font-size=\"14.00\" text-anchor=\"middle\" x=\"412.5\" y=\"-2106.3\">(None, 32, 32, 3)</text>\n<polyline fill=\"none\" points=\"354,-2098.5 471,-2098.5 \" stroke=\"#000000\"/>\n<text fill=\"#000000\" font-family=\"Times,serif\" font-size=\"14.00\" text-anchor=\"middle\" x=\"412.5\" y=\"-2083.3\">(None, 32, 32, 3)</text>\n</g>\n<!-- 140547007482456 -->\n<g class=\"node\" id=\"node2\">\n<title>140547007482456</title>\n<polygon fill=\"none\" points=\"168.5,-1992.5 168.5,-2038.5 465.5,-2038.5 465.5,-1992.5 168.5,-1992.5\" stroke=\"#000000\"/>\n<text fill=\"#000000\" font-family=\"Times,serif\" font-size=\"14.00\" text-anchor=\"middle\" x=\"225.5\" y=\"-2011.8\">Conv1: Conv2D</text>\n<polyline fill=\"none\" points=\"282.5,-1992.5 282.5,-2038.5 \" stroke=\"#000000\"/>\n<text fill=\"#000000\" font-family=\"Times,serif\" font-size=\"14.00\" text-anchor=\"middle\" x=\"311.5\" y=\"-2023.3\">input:</text>\n<polyline fill=\"none\" points=\"282.5,-2015.5 340.5,-2015.5 \" stroke=\"#000000\"/>\n<text fill=\"#000000\" font-family=\"Times,serif\" font-size=\"14.00\" text-anchor=\"middle\" x=\"311.5\" y=\"-2000.3\">output:</text>\n<polyline fill=\"none\" points=\"340.5,-1992.5 340.5,-2038.5 \" stroke=\"#000000\"/>\n<text fill=\"#000000\" font-family=\"Times,serif\" font-size=\"14.00\" text-anchor=\"middle\" x=\"403\" y=\"-2023.3\">(None, 32, 32, 3)</text>\n<polyline fill=\"none\" points=\"340.5,-2015.5 465.5,-2015.5 \" stroke=\"#000000\"/>\n<text fill=\"#000000\" font-family=\"Times,serif\" font-size=\"14.00\" text-anchor=\"middle\" x=\"403\" y=\"-2000.3\">(None, 16, 16, 96)</text>\n</g>\n<!-- 140547007483744&#45;&gt;140547007482456 -->\n<g class=\"edge\" id=\"edge1\">\n<title>140547007483744-&gt;140547007482456</title>\n<path d=\"M317,-2075.3799C317,-2067.1745 317,-2057.7679 317,-2048.8786\" fill=\"none\" stroke=\"#000000\"/>\n<polygon fill=\"#000000\" points=\"320.5001,-2048.784 317,-2038.784 313.5001,-2048.784 320.5001,-2048.784\" stroke=\"#000000\"/>\n</g>\n<!-- 140547007483296 -->\n<g class=\"node\" id=\"node3\">\n<title>140547007483296</title>\n<polygon fill=\"none\" points=\"138.5,-1909.5 138.5,-1955.5 495.5,-1955.5 495.5,-1909.5 138.5,-1909.5\" stroke=\"#000000\"/>\n<text fill=\"#000000\" font-family=\"Times,serif\" font-size=\"14.00\" text-anchor=\"middle\" x=\"225.5\" y=\"-1928.8\">Maxpool1: MaxPooling2D</text>\n<polyline fill=\"none\" points=\"312.5,-1909.5 312.5,-1955.5 \" stroke=\"#000000\"/>\n<text fill=\"#000000\" font-family=\"Times,serif\" font-size=\"14.00\" text-anchor=\"middle\" x=\"341.5\" y=\"-1940.3\">input:</text>\n<polyline fill=\"none\" points=\"312.5,-1932.5 370.5,-1932.5 \" stroke=\"#000000\"/>\n<text fill=\"#000000\" font-family=\"Times,serif\" font-size=\"14.00\" text-anchor=\"middle\" x=\"341.5\" y=\"-1917.3\">output:</text>\n<polyline fill=\"none\" points=\"370.5,-1909.5 370.5,-1955.5 \" stroke=\"#000000\"/>\n<text fill=\"#000000\" font-family=\"Times,serif\" font-size=\"14.00\" text-anchor=\"middle\" x=\"433\" y=\"-1940.3\">(None, 16, 16, 96)</text>\n<polyline fill=\"none\" points=\"370.5,-1932.5 495.5,-1932.5 \" stroke=\"#000000\"/>\n<text fill=\"#000000\" font-family=\"Times,serif\" font-size=\"14.00\" text-anchor=\"middle\" x=\"433\" y=\"-1917.3\">(None, 8, 8, 96)</text>\n</g>\n<!-- 140547007482456&#45;&gt;140547007483296 -->\n<g class=\"edge\" id=\"edge2\">\n<title>140547007482456-&gt;140547007483296</title>\n<path d=\"M317,-1992.3799C317,-1984.1745 317,-1974.7679 317,-1965.8786\" fill=\"none\" stroke=\"#000000\"/>\n<polygon fill=\"#000000\" points=\"320.5001,-1965.784 317,-1955.784 313.5001,-1965.784 320.5001,-1965.784\" stroke=\"#000000\"/>\n</g>\n<!-- 140547007548384 -->\n<g class=\"node\" id=\"node4\">\n<title>140547007548384</title>\n<polygon fill=\"none\" points=\"143.5,-1826.5 143.5,-1872.5 490.5,-1872.5 490.5,-1826.5 143.5,-1826.5\" stroke=\"#000000\"/>\n<text fill=\"#000000\" font-family=\"Times,serif\" font-size=\"14.00\" text-anchor=\"middle\" x=\"233\" y=\"-1845.8\">Batch1: BatchNormalization</text>\n<polyline fill=\"none\" points=\"322.5,-1826.5 322.5,-1872.5 \" stroke=\"#000000\"/>\n<text fill=\"#000000\" font-family=\"Times,serif\" font-size=\"14.00\" text-anchor=\"middle\" x=\"351.5\" y=\"-1857.3\">input:</text>\n<polyline fill=\"none\" points=\"322.5,-1849.5 380.5,-1849.5 \" stroke=\"#000000\"/>\n<text fill=\"#000000\" font-family=\"Times,serif\" font-size=\"14.00\" text-anchor=\"middle\" x=\"351.5\" y=\"-1834.3\">output:</text>\n<polyline fill=\"none\" points=\"380.5,-1826.5 380.5,-1872.5 \" stroke=\"#000000\"/>\n<text fill=\"#000000\" font-family=\"Times,serif\" font-size=\"14.00\" text-anchor=\"middle\" x=\"435.5\" y=\"-1857.3\">(None, 8, 8, 96)</text>\n<polyline fill=\"none\" points=\"380.5,-1849.5 490.5,-1849.5 \" stroke=\"#000000\"/>\n<text fill=\"#000000\" font-family=\"Times,serif\" font-size=\"14.00\" text-anchor=\"middle\" x=\"435.5\" y=\"-1834.3\">(None, 8, 8, 96)</text>\n</g>\n<!-- 140547007483296&#45;&gt;140547007548384 -->\n<g class=\"edge\" id=\"edge3\">\n<title>140547007483296-&gt;140547007548384</title>\n<path d=\"M317,-1909.3799C317,-1901.1745 317,-1891.7679 317,-1882.8786\" fill=\"none\" stroke=\"#000000\"/>\n<polygon fill=\"#000000\" points=\"320.5001,-1882.784 317,-1872.784 313.5001,-1882.784 320.5001,-1882.784\" stroke=\"#000000\"/>\n</g>\n<!-- 140547007548664 -->\n<g class=\"node\" id=\"node5\">\n<title>140547007548664</title>\n<polygon fill=\"none\" points=\"167,-1743.5 167,-1789.5 467,-1789.5 467,-1743.5 167,-1743.5\" stroke=\"#000000\"/>\n<text fill=\"#000000\" font-family=\"Times,serif\" font-size=\"14.00\" text-anchor=\"middle\" x=\"233\" y=\"-1762.8\">Fire2s1x1: Conv2D</text>\n<polyline fill=\"none\" points=\"299,-1743.5 299,-1789.5 \" stroke=\"#000000\"/>\n<text fill=\"#000000\" font-family=\"Times,serif\" font-size=\"14.00\" text-anchor=\"middle\" x=\"328\" y=\"-1774.3\">input:</text>\n<polyline fill=\"none\" points=\"299,-1766.5 357,-1766.5 \" stroke=\"#000000\"/>\n<text fill=\"#000000\" font-family=\"Times,serif\" font-size=\"14.00\" text-anchor=\"middle\" x=\"328\" y=\"-1751.3\">output:</text>\n<polyline fill=\"none\" points=\"357,-1743.5 357,-1789.5 \" stroke=\"#000000\"/>\n<text fill=\"#000000\" font-family=\"Times,serif\" font-size=\"14.00\" text-anchor=\"middle\" x=\"412\" y=\"-1774.3\">(None, 8, 8, 96)</text>\n<polyline fill=\"none\" points=\"357,-1766.5 467,-1766.5 \" stroke=\"#000000\"/>\n<text fill=\"#000000\" font-family=\"Times,serif\" font-size=\"14.00\" text-anchor=\"middle\" x=\"412\" y=\"-1751.3\">(None, 8, 8, 32)</text>\n</g>\n<!-- 140547007548384&#45;&gt;140547007548664 -->\n<g class=\"edge\" id=\"edge4\">\n<title>140547007548384-&gt;140547007548664</title>\n<path d=\"M317,-1826.3799C317,-1818.1745 317,-1808.7679 317,-1799.8786\" fill=\"none\" stroke=\"#000000\"/>\n<polygon fill=\"#000000\" points=\"320.5001,-1799.784 317,-1789.784 313.5001,-1799.784 320.5001,-1799.784\" stroke=\"#000000\"/>\n</g>\n<!-- 140547007521400 -->\n<g class=\"node\" id=\"node6\">\n<title>140547007521400</title>\n<polygon fill=\"none\" points=\"138.5,-1660.5 138.5,-1706.5 495.5,-1706.5 495.5,-1660.5 138.5,-1660.5\" stroke=\"#000000\"/>\n<text fill=\"#000000\" font-family=\"Times,serif\" font-size=\"14.00\" text-anchor=\"middle\" x=\"233\" y=\"-1679.8\">Fire2sbn: BatchNormalization</text>\n<polyline fill=\"none\" points=\"327.5,-1660.5 327.5,-1706.5 \" stroke=\"#000000\"/>\n<text fill=\"#000000\" font-family=\"Times,serif\" font-size=\"14.00\" text-anchor=\"middle\" x=\"356.5\" y=\"-1691.3\">input:</text>\n<polyline fill=\"none\" points=\"327.5,-1683.5 385.5,-1683.5 \" stroke=\"#000000\"/>\n<text fill=\"#000000\" font-family=\"Times,serif\" font-size=\"14.00\" text-anchor=\"middle\" x=\"356.5\" y=\"-1668.3\">output:</text>\n<polyline fill=\"none\" points=\"385.5,-1660.5 385.5,-1706.5 \" stroke=\"#000000\"/>\n<text fill=\"#000000\" font-family=\"Times,serif\" font-size=\"14.00\" text-anchor=\"middle\" x=\"440.5\" y=\"-1691.3\">(None, 8, 8, 32)</text>\n<polyline fill=\"none\" points=\"385.5,-1683.5 495.5,-1683.5 \" stroke=\"#000000\"/>\n<text fill=\"#000000\" font-family=\"Times,serif\" font-size=\"14.00\" text-anchor=\"middle\" x=\"440.5\" y=\"-1668.3\">(None, 8, 8, 32)</text>\n</g>\n<!-- 140547007548664&#45;&gt;140547007521400 -->\n<g class=\"edge\" id=\"edge5\">\n<title>140547007548664-&gt;140547007521400</title>\n<path d=\"M317,-1743.3799C317,-1735.1745 317,-1725.7679 317,-1716.8786\" fill=\"none\" stroke=\"#000000\"/>\n<polygon fill=\"#000000\" points=\"320.5001,-1716.784 317,-1706.784 313.5001,-1716.784 320.5001,-1716.784\" stroke=\"#000000\"/>\n</g>\n<!-- 140547003418552 -->\n<g class=\"node\" id=\"node7\">\n<title>140547003418552</title>\n<polygon fill=\"none\" points=\"0,-1577.5 0,-1623.5 308,-1623.5 308,-1577.5 0,-1577.5\" stroke=\"#000000\"/>\n<text fill=\"#000000\" font-family=\"Times,serif\" font-size=\"14.00\" text-anchor=\"middle\" x=\"66.5\" y=\"-1596.8\">Fire2e1x1: Conv2D</text>\n<polyline fill=\"none\" points=\"133,-1577.5 133,-1623.5 \" stroke=\"#000000\"/>\n<text fill=\"#000000\" font-family=\"Times,serif\" font-size=\"14.00\" text-anchor=\"middle\" x=\"162\" y=\"-1608.3\">input:</text>\n<polyline fill=\"none\" points=\"133,-1600.5 191,-1600.5 \" stroke=\"#000000\"/>\n<text fill=\"#000000\" font-family=\"Times,serif\" font-size=\"14.00\" text-anchor=\"middle\" x=\"162\" y=\"-1585.3\">output:</text>\n<polyline fill=\"none\" points=\"191,-1577.5 191,-1623.5 \" stroke=\"#000000\"/>\n<text fill=\"#000000\" font-family=\"Times,serif\" font-size=\"14.00\" text-anchor=\"middle\" x=\"249.5\" y=\"-1608.3\">(None, 8, 8, 32)</text>\n<polyline fill=\"none\" points=\"191,-1600.5 308,-1600.5 \" stroke=\"#000000\"/>\n<text fill=\"#000000\" font-family=\"Times,serif\" font-size=\"14.00\" text-anchor=\"middle\" x=\"249.5\" y=\"-1585.3\">(None, 8, 8, 128)</text>\n</g>\n<!-- 140547007521400&#45;&gt;140547003418552 -->\n<g class=\"edge\" id=\"edge6\">\n<title>140547007521400-&gt;140547003418552</title>\n<path d=\"M271.5954,-1660.3799C251.9838,-1650.3936 228.8777,-1638.6279 208.3617,-1628.1811\" fill=\"none\" stroke=\"#000000\"/>\n<polygon fill=\"#000000\" points=\"209.9429,-1625.0587 199.4435,-1623.6399 206.7666,-1631.2966 209.9429,-1625.0587\" stroke=\"#000000\"/>\n</g>\n<!-- 140546982848832 -->\n<g class=\"node\" id=\"node8\">\n<title>140546982848832</title>\n<polygon fill=\"none\" points=\"326,-1577.5 326,-1623.5 634,-1623.5 634,-1577.5 326,-1577.5\" stroke=\"#000000\"/>\n<text fill=\"#000000\" font-family=\"Times,serif\" font-size=\"14.00\" text-anchor=\"middle\" x=\"392.5\" y=\"-1596.8\">Fire2e3x3: Conv2D</text>\n<polyline fill=\"none\" points=\"459,-1577.5 459,-1623.5 \" stroke=\"#000000\"/>\n<text fill=\"#000000\" font-family=\"Times,serif\" font-size=\"14.00\" text-anchor=\"middle\" x=\"488\" y=\"-1608.3\">input:</text>\n<polyline fill=\"none\" points=\"459,-1600.5 517,-1600.5 \" stroke=\"#000000\"/>\n<text fill=\"#000000\" font-family=\"Times,serif\" font-size=\"14.00\" text-anchor=\"middle\" x=\"488\" y=\"-1585.3\">output:</text>\n<polyline fill=\"none\" points=\"517,-1577.5 517,-1623.5 \" stroke=\"#000000\"/>\n<text fill=\"#000000\" font-family=\"Times,serif\" font-size=\"14.00\" text-anchor=\"middle\" x=\"575.5\" y=\"-1608.3\">(None, 8, 8, 32)</text>\n<polyline fill=\"none\" points=\"517,-1600.5 634,-1600.5 \" stroke=\"#000000\"/>\n<text fill=\"#000000\" font-family=\"Times,serif\" font-size=\"14.00\" text-anchor=\"middle\" x=\"575.5\" y=\"-1585.3\">(None, 8, 8, 128)</text>\n</g>\n<!-- 140547007521400&#45;&gt;140546982848832 -->\n<g class=\"edge\" id=\"edge7\">\n<title>140547007521400-&gt;140546982848832</title>\n<path d=\"M362.4046,-1660.3799C382.0162,-1650.3936 405.1223,-1638.6279 425.6383,-1628.1811\" fill=\"none\" stroke=\"#000000\"/>\n<polygon fill=\"#000000\" points=\"427.2334,-1631.2966 434.5565,-1623.6399 424.0571,-1625.0587 427.2334,-1631.2966\" stroke=\"#000000\"/>\n</g>\n<!-- 140547025058000 -->\n<g class=\"node\" id=\"node9\">\n<title>140547025058000</title>\n<polygon fill=\"none\" points=\"109,-1494.5 109,-1540.5 525,-1540.5 525,-1494.5 109,-1494.5\" stroke=\"#000000\"/>\n<text fill=\"#000000\" font-family=\"Times,serif\" font-size=\"14.00\" text-anchor=\"middle\" x=\"171\" y=\"-1513.8\">Fire2: Concatenate</text>\n<polyline fill=\"none\" points=\"233,-1494.5 233,-1540.5 \" stroke=\"#000000\"/>\n<text fill=\"#000000\" font-family=\"Times,serif\" font-size=\"14.00\" text-anchor=\"middle\" x=\"262\" y=\"-1525.3\">input:</text>\n<polyline fill=\"none\" points=\"233,-1517.5 291,-1517.5 \" stroke=\"#000000\"/>\n<text fill=\"#000000\" font-family=\"Times,serif\" font-size=\"14.00\" text-anchor=\"middle\" x=\"262\" y=\"-1502.3\">output:</text>\n<polyline fill=\"none\" points=\"291,-1494.5 291,-1540.5 \" stroke=\"#000000\"/>\n<text fill=\"#000000\" font-family=\"Times,serif\" font-size=\"14.00\" text-anchor=\"middle\" x=\"408\" y=\"-1525.3\">[(None, 8, 8, 128), (None, 8, 8, 128)]</text>\n<polyline fill=\"none\" points=\"291,-1517.5 525,-1517.5 \" stroke=\"#000000\"/>\n<text fill=\"#000000\" font-family=\"Times,serif\" font-size=\"14.00\" text-anchor=\"middle\" x=\"408\" y=\"-1502.3\">(None, 8, 8, 256)</text>\n</g>\n<!-- 140547003418552&#45;&gt;140547025058000 -->\n<g class=\"edge\" id=\"edge8\">\n<title>140547003418552-&gt;140547025058000</title>\n<path d=\"M199.4046,-1577.3799C219.0162,-1567.3936 242.1223,-1555.6279 262.6383,-1545.1811\" fill=\"none\" stroke=\"#000000\"/>\n<polygon fill=\"#000000\" points=\"264.2334,-1548.2966 271.5565,-1540.6399 261.0571,-1542.0587 264.2334,-1548.2966\" stroke=\"#000000\"/>\n</g>\n<!-- 140546982848832&#45;&gt;140547025058000 -->\n<g class=\"edge\" id=\"edge9\">\n<title>140546982848832-&gt;140547025058000</title>\n<path d=\"M434.5954,-1577.3799C414.9838,-1567.3936 391.8777,-1555.6279 371.3617,-1545.1811\" fill=\"none\" stroke=\"#000000\"/>\n<polygon fill=\"#000000\" points=\"372.9429,-1542.0587 362.4435,-1540.6399 369.7666,-1548.2966 372.9429,-1542.0587\" stroke=\"#000000\"/>\n</g>\n<!-- 140547025056880 -->\n<g class=\"node\" id=\"node10\">\n<title>140547025056880</title>\n<polygon fill=\"none\" points=\"142.5,-1411.5 142.5,-1457.5 491.5,-1457.5 491.5,-1411.5 142.5,-1411.5\" stroke=\"#000000\"/>\n<text fill=\"#000000\" font-family=\"Times,serif\" font-size=\"14.00\" text-anchor=\"middle\" x=\"229.5\" y=\"-1430.8\">Maxpool2: MaxPooling2D</text>\n<polyline fill=\"none\" points=\"316.5,-1411.5 316.5,-1457.5 \" stroke=\"#000000\"/>\n<text fill=\"#000000\" font-family=\"Times,serif\" font-size=\"14.00\" text-anchor=\"middle\" x=\"345.5\" y=\"-1442.3\">input:</text>\n<polyline fill=\"none\" points=\"316.5,-1434.5 374.5,-1434.5 \" stroke=\"#000000\"/>\n<text fill=\"#000000\" font-family=\"Times,serif\" font-size=\"14.00\" text-anchor=\"middle\" x=\"345.5\" y=\"-1419.3\">output:</text>\n<polyline fill=\"none\" points=\"374.5,-1411.5 374.5,-1457.5 \" stroke=\"#000000\"/>\n<text fill=\"#000000\" font-family=\"Times,serif\" font-size=\"14.00\" text-anchor=\"middle\" x=\"433\" y=\"-1442.3\">(None, 8, 8, 256)</text>\n<polyline fill=\"none\" points=\"374.5,-1434.5 491.5,-1434.5 \" stroke=\"#000000\"/>\n<text fill=\"#000000\" font-family=\"Times,serif\" font-size=\"14.00\" text-anchor=\"middle\" x=\"433\" y=\"-1419.3\">(None, 3, 3, 256)</text>\n</g>\n<!-- 140547025058000&#45;&gt;140547025056880 -->\n<g class=\"edge\" id=\"edge10\">\n<title>140547025058000-&gt;140547025056880</title>\n<path d=\"M317,-1494.3799C317,-1486.1745 317,-1476.7679 317,-1467.8786\" fill=\"none\" stroke=\"#000000\"/>\n<polygon fill=\"#000000\" points=\"320.5001,-1467.784 317,-1457.784 313.5001,-1467.784 320.5001,-1467.784\" stroke=\"#000000\"/>\n</g>\n<!-- 140547025197656 -->\n<g class=\"node\" id=\"node11\">\n<title>140547025197656</title>\n<polygon fill=\"none\" points=\"163.5,-1328.5 163.5,-1374.5 470.5,-1374.5 470.5,-1328.5 163.5,-1328.5\" stroke=\"#000000\"/>\n<text fill=\"#000000\" font-family=\"Times,serif\" font-size=\"14.00\" text-anchor=\"middle\" x=\"229.5\" y=\"-1347.8\">Fire3s1x1: Conv2D</text>\n<polyline fill=\"none\" points=\"295.5,-1328.5 295.5,-1374.5 \" stroke=\"#000000\"/>\n<text fill=\"#000000\" font-family=\"Times,serif\" font-size=\"14.00\" text-anchor=\"middle\" x=\"324.5\" y=\"-1359.3\">input:</text>\n<polyline fill=\"none\" points=\"295.5,-1351.5 353.5,-1351.5 \" stroke=\"#000000\"/>\n<text fill=\"#000000\" font-family=\"Times,serif\" font-size=\"14.00\" text-anchor=\"middle\" x=\"324.5\" y=\"-1336.3\">output:</text>\n<polyline fill=\"none\" points=\"353.5,-1328.5 353.5,-1374.5 \" stroke=\"#000000\"/>\n<text fill=\"#000000\" font-family=\"Times,serif\" font-size=\"14.00\" text-anchor=\"middle\" x=\"412\" y=\"-1359.3\">(None, 3, 3, 256)</text>\n<polyline fill=\"none\" points=\"353.5,-1351.5 470.5,-1351.5 \" stroke=\"#000000\"/>\n<text fill=\"#000000\" font-family=\"Times,serif\" font-size=\"14.00\" text-anchor=\"middle\" x=\"412\" y=\"-1336.3\">(None, 3, 3, 48)</text>\n</g>\n<!-- 140547025056880&#45;&gt;140547025197656 -->\n<g class=\"edge\" id=\"edge11\">\n<title>140547025056880-&gt;140547025197656</title>\n<path d=\"M317,-1411.3799C317,-1403.1745 317,-1393.7679 317,-1384.8786\" fill=\"none\" stroke=\"#000000\"/>\n<polygon fill=\"#000000\" points=\"320.5001,-1384.784 317,-1374.784 313.5001,-1384.784 320.5001,-1384.784\" stroke=\"#000000\"/>\n</g>\n<!-- 140547006312688 -->\n<g class=\"node\" id=\"node12\">\n<title>140547006312688</title>\n<polygon fill=\"none\" points=\"138.5,-1245.5 138.5,-1291.5 495.5,-1291.5 495.5,-1245.5 138.5,-1245.5\" stroke=\"#000000\"/>\n<text fill=\"#000000\" font-family=\"Times,serif\" font-size=\"14.00\" text-anchor=\"middle\" x=\"233\" y=\"-1264.8\">Fire3sbn: BatchNormalization</text>\n<polyline fill=\"none\" points=\"327.5,-1245.5 327.5,-1291.5 \" stroke=\"#000000\"/>\n<text fill=\"#000000\" font-family=\"Times,serif\" font-size=\"14.00\" text-anchor=\"middle\" x=\"356.5\" y=\"-1276.3\">input:</text>\n<polyline fill=\"none\" points=\"327.5,-1268.5 385.5,-1268.5 \" stroke=\"#000000\"/>\n<text fill=\"#000000\" font-family=\"Times,serif\" font-size=\"14.00\" text-anchor=\"middle\" x=\"356.5\" y=\"-1253.3\">output:</text>\n<polyline fill=\"none\" points=\"385.5,-1245.5 385.5,-1291.5 \" stroke=\"#000000\"/>\n<text fill=\"#000000\" font-family=\"Times,serif\" font-size=\"14.00\" text-anchor=\"middle\" x=\"440.5\" y=\"-1276.3\">(None, 3, 3, 48)</text>\n<polyline fill=\"none\" points=\"385.5,-1268.5 495.5,-1268.5 \" stroke=\"#000000\"/>\n<text fill=\"#000000\" font-family=\"Times,serif\" font-size=\"14.00\" text-anchor=\"middle\" x=\"440.5\" y=\"-1253.3\">(None, 3, 3, 48)</text>\n</g>\n<!-- 140547025197656&#45;&gt;140547006312688 -->\n<g class=\"edge\" id=\"edge12\">\n<title>140547025197656-&gt;140547006312688</title>\n<path d=\"M317,-1328.3799C317,-1320.1745 317,-1310.7679 317,-1301.8786\" fill=\"none\" stroke=\"#000000\"/>\n<polygon fill=\"#000000\" points=\"320.5001,-1301.784 317,-1291.784 313.5001,-1301.784 320.5001,-1301.784\" stroke=\"#000000\"/>\n</g>\n<!-- 140547006313024 -->\n<g class=\"node\" id=\"node13\">\n<title>140547006313024</title>\n<polygon fill=\"none\" points=\"0,-1162.5 0,-1208.5 308,-1208.5 308,-1162.5 0,-1162.5\" stroke=\"#000000\"/>\n<text fill=\"#000000\" font-family=\"Times,serif\" font-size=\"14.00\" text-anchor=\"middle\" x=\"66.5\" y=\"-1181.8\">Fire3e1x1: Conv2D</text>\n<polyline fill=\"none\" points=\"133,-1162.5 133,-1208.5 \" stroke=\"#000000\"/>\n<text fill=\"#000000\" font-family=\"Times,serif\" font-size=\"14.00\" text-anchor=\"middle\" x=\"162\" y=\"-1193.3\">input:</text>\n<polyline fill=\"none\" points=\"133,-1185.5 191,-1185.5 \" stroke=\"#000000\"/>\n<text fill=\"#000000\" font-family=\"Times,serif\" font-size=\"14.00\" text-anchor=\"middle\" x=\"162\" y=\"-1170.3\">output:</text>\n<polyline fill=\"none\" points=\"191,-1162.5 191,-1208.5 \" stroke=\"#000000\"/>\n<text fill=\"#000000\" font-family=\"Times,serif\" font-size=\"14.00\" text-anchor=\"middle\" x=\"249.5\" y=\"-1193.3\">(None, 3, 3, 48)</text>\n<polyline fill=\"none\" points=\"191,-1185.5 308,-1185.5 \" stroke=\"#000000\"/>\n<text fill=\"#000000\" font-family=\"Times,serif\" font-size=\"14.00\" text-anchor=\"middle\" x=\"249.5\" y=\"-1170.3\">(None, 3, 3, 192)</text>\n</g>\n<!-- 140547006312688&#45;&gt;140547006313024 -->\n<g class=\"edge\" id=\"edge13\">\n<title>140547006312688-&gt;140547006313024</title>\n<path d=\"M271.5954,-1245.3799C251.9838,-1235.3936 228.8777,-1223.6279 208.3617,-1213.1811\" fill=\"none\" stroke=\"#000000\"/>\n<polygon fill=\"#000000\" points=\"209.9429,-1210.0587 199.4435,-1208.6399 206.7666,-1216.2966 209.9429,-1210.0587\" stroke=\"#000000\"/>\n</g>\n<!-- 140547005825096 -->\n<g class=\"node\" id=\"node14\">\n<title>140547005825096</title>\n<polygon fill=\"none\" points=\"326,-1162.5 326,-1208.5 634,-1208.5 634,-1162.5 326,-1162.5\" stroke=\"#000000\"/>\n<text fill=\"#000000\" font-family=\"Times,serif\" font-size=\"14.00\" text-anchor=\"middle\" x=\"392.5\" y=\"-1181.8\">Fire3e3x3: Conv2D</text>\n<polyline fill=\"none\" points=\"459,-1162.5 459,-1208.5 \" stroke=\"#000000\"/>\n<text fill=\"#000000\" font-family=\"Times,serif\" font-size=\"14.00\" text-anchor=\"middle\" x=\"488\" y=\"-1193.3\">input:</text>\n<polyline fill=\"none\" points=\"459,-1185.5 517,-1185.5 \" stroke=\"#000000\"/>\n<text fill=\"#000000\" font-family=\"Times,serif\" font-size=\"14.00\" text-anchor=\"middle\" x=\"488\" y=\"-1170.3\">output:</text>\n<polyline fill=\"none\" points=\"517,-1162.5 517,-1208.5 \" stroke=\"#000000\"/>\n<text fill=\"#000000\" font-family=\"Times,serif\" font-size=\"14.00\" text-anchor=\"middle\" x=\"575.5\" y=\"-1193.3\">(None, 3, 3, 48)</text>\n<polyline fill=\"none\" points=\"517,-1185.5 634,-1185.5 \" stroke=\"#000000\"/>\n<text fill=\"#000000\" font-family=\"Times,serif\" font-size=\"14.00\" text-anchor=\"middle\" x=\"575.5\" y=\"-1170.3\">(None, 3, 3, 192)</text>\n</g>\n<!-- 140547006312688&#45;&gt;140547005825096 -->\n<g class=\"edge\" id=\"edge14\">\n<title>140547006312688-&gt;140547005825096</title>\n<path d=\"M362.4046,-1245.3799C382.0162,-1235.3936 405.1223,-1223.6279 425.6383,-1213.1811\" fill=\"none\" stroke=\"#000000\"/>\n<polygon fill=\"#000000\" points=\"427.2334,-1216.2966 434.5565,-1208.6399 424.0571,-1210.0587 427.2334,-1216.2966\" stroke=\"#000000\"/>\n</g>\n<!-- 140547004594216 -->\n<g class=\"node\" id=\"node15\">\n<title>140547004594216</title>\n<polygon fill=\"none\" points=\"109,-1079.5 109,-1125.5 525,-1125.5 525,-1079.5 109,-1079.5\" stroke=\"#000000\"/>\n<text fill=\"#000000\" font-family=\"Times,serif\" font-size=\"14.00\" text-anchor=\"middle\" x=\"171\" y=\"-1098.8\">Fire3: Concatenate</text>\n<polyline fill=\"none\" points=\"233,-1079.5 233,-1125.5 \" stroke=\"#000000\"/>\n<text fill=\"#000000\" font-family=\"Times,serif\" font-size=\"14.00\" text-anchor=\"middle\" x=\"262\" y=\"-1110.3\">input:</text>\n<polyline fill=\"none\" points=\"233,-1102.5 291,-1102.5 \" stroke=\"#000000\"/>\n<text fill=\"#000000\" font-family=\"Times,serif\" font-size=\"14.00\" text-anchor=\"middle\" x=\"262\" y=\"-1087.3\">output:</text>\n<polyline fill=\"none\" points=\"291,-1079.5 291,-1125.5 \" stroke=\"#000000\"/>\n<text fill=\"#000000\" font-family=\"Times,serif\" font-size=\"14.00\" text-anchor=\"middle\" x=\"408\" y=\"-1110.3\">[(None, 3, 3, 192), (None, 3, 3, 192)]</text>\n<polyline fill=\"none\" points=\"291,-1102.5 525,-1102.5 \" stroke=\"#000000\"/>\n<text fill=\"#000000\" font-family=\"Times,serif\" font-size=\"14.00\" text-anchor=\"middle\" x=\"408\" y=\"-1087.3\">(None, 3, 3, 384)</text>\n</g>\n<!-- 140547006313024&#45;&gt;140547004594216 -->\n<g class=\"edge\" id=\"edge15\">\n<title>140547006313024-&gt;140547004594216</title>\n<path d=\"M199.4046,-1162.3799C219.0162,-1152.3936 242.1223,-1140.6279 262.6383,-1130.1811\" fill=\"none\" stroke=\"#000000\"/>\n<polygon fill=\"#000000\" points=\"264.2334,-1133.2966 271.5565,-1125.6399 261.0571,-1127.0587 264.2334,-1133.2966\" stroke=\"#000000\"/>\n</g>\n<!-- 140547005825096&#45;&gt;140547004594216 -->\n<g class=\"edge\" id=\"edge16\">\n<title>140547005825096-&gt;140547004594216</title>\n<path d=\"M434.5954,-1162.3799C414.9838,-1152.3936 391.8777,-1140.6279 371.3617,-1130.1811\" fill=\"none\" stroke=\"#000000\"/>\n<polygon fill=\"#000000\" points=\"372.9429,-1127.0587 362.4435,-1125.6399 369.7666,-1133.2966 372.9429,-1127.0587\" stroke=\"#000000\"/>\n</g>\n<!-- 140547004593936 -->\n<g class=\"node\" id=\"node16\">\n<title>140547004593936</title>\n<polygon fill=\"none\" points=\"163.5,-996.5 163.5,-1042.5 470.5,-1042.5 470.5,-996.5 163.5,-996.5\" stroke=\"#000000\"/>\n<text fill=\"#000000\" font-family=\"Times,serif\" font-size=\"14.00\" text-anchor=\"middle\" x=\"229.5\" y=\"-1015.8\">Fire4s1x1: Conv2D</text>\n<polyline fill=\"none\" points=\"295.5,-996.5 295.5,-1042.5 \" stroke=\"#000000\"/>\n<text fill=\"#000000\" font-family=\"Times,serif\" font-size=\"14.00\" text-anchor=\"middle\" x=\"324.5\" y=\"-1027.3\">input:</text>\n<polyline fill=\"none\" points=\"295.5,-1019.5 353.5,-1019.5 \" stroke=\"#000000\"/>\n<text fill=\"#000000\" font-family=\"Times,serif\" font-size=\"14.00\" text-anchor=\"middle\" x=\"324.5\" y=\"-1004.3\">output:</text>\n<polyline fill=\"none\" points=\"353.5,-996.5 353.5,-1042.5 \" stroke=\"#000000\"/>\n<text fill=\"#000000\" font-family=\"Times,serif\" font-size=\"14.00\" text-anchor=\"middle\" x=\"412\" y=\"-1027.3\">(None, 3, 3, 384)</text>\n<polyline fill=\"none\" points=\"353.5,-1019.5 470.5,-1019.5 \" stroke=\"#000000\"/>\n<text fill=\"#000000\" font-family=\"Times,serif\" font-size=\"14.00\" text-anchor=\"middle\" x=\"412\" y=\"-1004.3\">(None, 3, 3, 48)</text>\n</g>\n<!-- 140547004594216&#45;&gt;140547004593936 -->\n<g class=\"edge\" id=\"edge17\">\n<title>140547004594216-&gt;140547004593936</title>\n<path d=\"M317,-1079.3799C317,-1071.1745 317,-1061.7679 317,-1052.8786\" fill=\"none\" stroke=\"#000000\"/>\n<polygon fill=\"#000000\" points=\"320.5001,-1052.784 317,-1042.784 313.5001,-1052.784 320.5001,-1052.784\" stroke=\"#000000\"/>\n</g>\n<!-- 140547004687696 -->\n<g class=\"node\" id=\"node17\">\n<title>140547004687696</title>\n<polygon fill=\"none\" points=\"138.5,-913.5 138.5,-959.5 495.5,-959.5 495.5,-913.5 138.5,-913.5\" stroke=\"#000000\"/>\n<text fill=\"#000000\" font-family=\"Times,serif\" font-size=\"14.00\" text-anchor=\"middle\" x=\"233\" y=\"-932.8\">Fire4sbn: BatchNormalization</text>\n<polyline fill=\"none\" points=\"327.5,-913.5 327.5,-959.5 \" stroke=\"#000000\"/>\n<text fill=\"#000000\" font-family=\"Times,serif\" font-size=\"14.00\" text-anchor=\"middle\" x=\"356.5\" y=\"-944.3\">input:</text>\n<polyline fill=\"none\" points=\"327.5,-936.5 385.5,-936.5 \" stroke=\"#000000\"/>\n<text fill=\"#000000\" font-family=\"Times,serif\" font-size=\"14.00\" text-anchor=\"middle\" x=\"356.5\" y=\"-921.3\">output:</text>\n<polyline fill=\"none\" points=\"385.5,-913.5 385.5,-959.5 \" stroke=\"#000000\"/>\n<text fill=\"#000000\" font-family=\"Times,serif\" font-size=\"14.00\" text-anchor=\"middle\" x=\"440.5\" y=\"-944.3\">(None, 3, 3, 48)</text>\n<polyline fill=\"none\" points=\"385.5,-936.5 495.5,-936.5 \" stroke=\"#000000\"/>\n<text fill=\"#000000\" font-family=\"Times,serif\" font-size=\"14.00\" text-anchor=\"middle\" x=\"440.5\" y=\"-921.3\">(None, 3, 3, 48)</text>\n</g>\n<!-- 140547004593936&#45;&gt;140547004687696 -->\n<g class=\"edge\" id=\"edge18\">\n<title>140547004593936-&gt;140547004687696</title>\n<path d=\"M317,-996.3799C317,-988.1745 317,-978.7679 317,-969.8786\" fill=\"none\" stroke=\"#000000\"/>\n<polygon fill=\"#000000\" points=\"320.5001,-969.784 317,-959.784 313.5001,-969.784 320.5001,-969.784\" stroke=\"#000000\"/>\n</g>\n<!-- 140547004278936 -->\n<g class=\"node\" id=\"node18\">\n<title>140547004278936</title>\n<polygon fill=\"none\" points=\"0,-830.5 0,-876.5 308,-876.5 308,-830.5 0,-830.5\" stroke=\"#000000\"/>\n<text fill=\"#000000\" font-family=\"Times,serif\" font-size=\"14.00\" text-anchor=\"middle\" x=\"66.5\" y=\"-849.8\">Fire4e1x1: Conv2D</text>\n<polyline fill=\"none\" points=\"133,-830.5 133,-876.5 \" stroke=\"#000000\"/>\n<text fill=\"#000000\" font-family=\"Times,serif\" font-size=\"14.00\" text-anchor=\"middle\" x=\"162\" y=\"-861.3\">input:</text>\n<polyline fill=\"none\" points=\"133,-853.5 191,-853.5 \" stroke=\"#000000\"/>\n<text fill=\"#000000\" font-family=\"Times,serif\" font-size=\"14.00\" text-anchor=\"middle\" x=\"162\" y=\"-838.3\">output:</text>\n<polyline fill=\"none\" points=\"191,-830.5 191,-876.5 \" stroke=\"#000000\"/>\n<text fill=\"#000000\" font-family=\"Times,serif\" font-size=\"14.00\" text-anchor=\"middle\" x=\"249.5\" y=\"-861.3\">(None, 3, 3, 48)</text>\n<polyline fill=\"none\" points=\"191,-853.5 308,-853.5 \" stroke=\"#000000\"/>\n<text fill=\"#000000\" font-family=\"Times,serif\" font-size=\"14.00\" text-anchor=\"middle\" x=\"249.5\" y=\"-838.3\">(None, 3, 3, 192)</text>\n</g>\n<!-- 140547004687696&#45;&gt;140547004278936 -->\n<g class=\"edge\" id=\"edge19\">\n<title>140547004687696-&gt;140547004278936</title>\n<path d=\"M271.5954,-913.3799C251.9838,-903.3936 228.8777,-891.6279 208.3617,-881.1811\" fill=\"none\" stroke=\"#000000\"/>\n<polygon fill=\"#000000\" points=\"209.9429,-878.0587 199.4435,-876.6399 206.7666,-884.2966 209.9429,-878.0587\" stroke=\"#000000\"/>\n</g>\n<!-- 140547004479416 -->\n<g class=\"node\" id=\"node19\">\n<title>140547004479416</title>\n<polygon fill=\"none\" points=\"326,-830.5 326,-876.5 634,-876.5 634,-830.5 326,-830.5\" stroke=\"#000000\"/>\n<text fill=\"#000000\" font-family=\"Times,serif\" font-size=\"14.00\" text-anchor=\"middle\" x=\"392.5\" y=\"-849.8\">Fire4e3x3: Conv2D</text>\n<polyline fill=\"none\" points=\"459,-830.5 459,-876.5 \" stroke=\"#000000\"/>\n<text fill=\"#000000\" font-family=\"Times,serif\" font-size=\"14.00\" text-anchor=\"middle\" x=\"488\" y=\"-861.3\">input:</text>\n<polyline fill=\"none\" points=\"459,-853.5 517,-853.5 \" stroke=\"#000000\"/>\n<text fill=\"#000000\" font-family=\"Times,serif\" font-size=\"14.00\" text-anchor=\"middle\" x=\"488\" y=\"-838.3\">output:</text>\n<polyline fill=\"none\" points=\"517,-830.5 517,-876.5 \" stroke=\"#000000\"/>\n<text fill=\"#000000\" font-family=\"Times,serif\" font-size=\"14.00\" text-anchor=\"middle\" x=\"575.5\" y=\"-861.3\">(None, 3, 3, 48)</text>\n<polyline fill=\"none\" points=\"517,-853.5 634,-853.5 \" stroke=\"#000000\"/>\n<text fill=\"#000000\" font-family=\"Times,serif\" font-size=\"14.00\" text-anchor=\"middle\" x=\"575.5\" y=\"-838.3\">(None, 3, 3, 192)</text>\n</g>\n<!-- 140547004687696&#45;&gt;140547004479416 -->\n<g class=\"edge\" id=\"edge20\">\n<title>140547004687696-&gt;140547004479416</title>\n<path d=\"M362.4046,-913.3799C382.0162,-903.3936 405.1223,-891.6279 425.6383,-881.1811\" fill=\"none\" stroke=\"#000000\"/>\n<polygon fill=\"#000000\" points=\"427.2334,-884.2966 434.5565,-876.6399 424.0571,-878.0587 427.2334,-884.2966\" stroke=\"#000000\"/>\n</g>\n<!-- 140547003199840 -->\n<g class=\"node\" id=\"node20\">\n<title>140547003199840</title>\n<polygon fill=\"none\" points=\"109,-747.5 109,-793.5 525,-793.5 525,-747.5 109,-747.5\" stroke=\"#000000\"/>\n<text fill=\"#000000\" font-family=\"Times,serif\" font-size=\"14.00\" text-anchor=\"middle\" x=\"171\" y=\"-766.8\">Fire4: Concatenate</text>\n<polyline fill=\"none\" points=\"233,-747.5 233,-793.5 \" stroke=\"#000000\"/>\n<text fill=\"#000000\" font-family=\"Times,serif\" font-size=\"14.00\" text-anchor=\"middle\" x=\"262\" y=\"-778.3\">input:</text>\n<polyline fill=\"none\" points=\"233,-770.5 291,-770.5 \" stroke=\"#000000\"/>\n<text fill=\"#000000\" font-family=\"Times,serif\" font-size=\"14.00\" text-anchor=\"middle\" x=\"262\" y=\"-755.3\">output:</text>\n<polyline fill=\"none\" points=\"291,-747.5 291,-793.5 \" stroke=\"#000000\"/>\n<text fill=\"#000000\" font-family=\"Times,serif\" font-size=\"14.00\" text-anchor=\"middle\" x=\"408\" y=\"-778.3\">[(None, 3, 3, 192), (None, 3, 3, 192)]</text>\n<polyline fill=\"none\" points=\"291,-770.5 525,-770.5 \" stroke=\"#000000\"/>\n<text fill=\"#000000\" font-family=\"Times,serif\" font-size=\"14.00\" text-anchor=\"middle\" x=\"408\" y=\"-755.3\">(None, 3, 3, 384)</text>\n</g>\n<!-- 140547004278936&#45;&gt;140547003199840 -->\n<g class=\"edge\" id=\"edge21\">\n<title>140547004278936-&gt;140547003199840</title>\n<path d=\"M199.4046,-830.3799C219.0162,-820.3936 242.1223,-808.6279 262.6383,-798.1811\" fill=\"none\" stroke=\"#000000\"/>\n<polygon fill=\"#000000\" points=\"264.2334,-801.2966 271.5565,-793.6399 261.0571,-795.0587 264.2334,-801.2966\" stroke=\"#000000\"/>\n</g>\n<!-- 140547004479416&#45;&gt;140547003199840 -->\n<g class=\"edge\" id=\"edge22\">\n<title>140547004479416-&gt;140547003199840</title>\n<path d=\"M434.5954,-830.3799C414.9838,-820.3936 391.8777,-808.6279 371.3617,-798.1811\" fill=\"none\" stroke=\"#000000\"/>\n<polygon fill=\"#000000\" points=\"372.9429,-795.0587 362.4435,-793.6399 369.7666,-801.2966 372.9429,-795.0587\" stroke=\"#000000\"/>\n</g>\n<!-- 140547003092104 -->\n<g class=\"node\" id=\"node21\">\n<title>140547003092104</title>\n<polygon fill=\"none\" points=\"163.5,-664.5 163.5,-710.5 470.5,-710.5 470.5,-664.5 163.5,-664.5\" stroke=\"#000000\"/>\n<text fill=\"#000000\" font-family=\"Times,serif\" font-size=\"14.00\" text-anchor=\"middle\" x=\"229.5\" y=\"-683.8\">Fire5s1x1: Conv2D</text>\n<polyline fill=\"none\" points=\"295.5,-664.5 295.5,-710.5 \" stroke=\"#000000\"/>\n<text fill=\"#000000\" font-family=\"Times,serif\" font-size=\"14.00\" text-anchor=\"middle\" x=\"324.5\" y=\"-695.3\">input:</text>\n<polyline fill=\"none\" points=\"295.5,-687.5 353.5,-687.5 \" stroke=\"#000000\"/>\n<text fill=\"#000000\" font-family=\"Times,serif\" font-size=\"14.00\" text-anchor=\"middle\" x=\"324.5\" y=\"-672.3\">output:</text>\n<polyline fill=\"none\" points=\"353.5,-664.5 353.5,-710.5 \" stroke=\"#000000\"/>\n<text fill=\"#000000\" font-family=\"Times,serif\" font-size=\"14.00\" text-anchor=\"middle\" x=\"412\" y=\"-695.3\">(None, 3, 3, 384)</text>\n<polyline fill=\"none\" points=\"353.5,-687.5 470.5,-687.5 \" stroke=\"#000000\"/>\n<text fill=\"#000000\" font-family=\"Times,serif\" font-size=\"14.00\" text-anchor=\"middle\" x=\"412\" y=\"-672.3\">(None, 3, 3, 48)</text>\n</g>\n<!-- 140547003199840&#45;&gt;140547003092104 -->\n<g class=\"edge\" id=\"edge23\">\n<title>140547003199840-&gt;140547003092104</title>\n<path d=\"M317,-747.3799C317,-739.1745 317,-729.7679 317,-720.8786\" fill=\"none\" stroke=\"#000000\"/>\n<polygon fill=\"#000000\" points=\"320.5001,-720.784 317,-710.784 313.5001,-720.784 320.5001,-720.784\" stroke=\"#000000\"/>\n</g>\n<!-- 140547002789392 -->\n<g class=\"node\" id=\"node22\">\n<title>140547002789392</title>\n<polygon fill=\"none\" points=\"138.5,-581.5 138.5,-627.5 495.5,-627.5 495.5,-581.5 138.5,-581.5\" stroke=\"#000000\"/>\n<text fill=\"#000000\" font-family=\"Times,serif\" font-size=\"14.00\" text-anchor=\"middle\" x=\"233\" y=\"-600.8\">Fire5sbn: BatchNormalization</text>\n<polyline fill=\"none\" points=\"327.5,-581.5 327.5,-627.5 \" stroke=\"#000000\"/>\n<text fill=\"#000000\" font-family=\"Times,serif\" font-size=\"14.00\" text-anchor=\"middle\" x=\"356.5\" y=\"-612.3\">input:</text>\n<polyline fill=\"none\" points=\"327.5,-604.5 385.5,-604.5 \" stroke=\"#000000\"/>\n<text fill=\"#000000\" font-family=\"Times,serif\" font-size=\"14.00\" text-anchor=\"middle\" x=\"356.5\" y=\"-589.3\">output:</text>\n<polyline fill=\"none\" points=\"385.5,-581.5 385.5,-627.5 \" stroke=\"#000000\"/>\n<text fill=\"#000000\" font-family=\"Times,serif\" font-size=\"14.00\" text-anchor=\"middle\" x=\"440.5\" y=\"-612.3\">(None, 3, 3, 48)</text>\n<polyline fill=\"none\" points=\"385.5,-604.5 495.5,-604.5 \" stroke=\"#000000\"/>\n<text fill=\"#000000\" font-family=\"Times,serif\" font-size=\"14.00\" text-anchor=\"middle\" x=\"440.5\" y=\"-589.3\">(None, 3, 3, 48)</text>\n</g>\n<!-- 140547003092104&#45;&gt;140547002789392 -->\n<g class=\"edge\" id=\"edge24\">\n<title>140547003092104-&gt;140547002789392</title>\n<path d=\"M317,-664.3799C317,-656.1745 317,-646.7679 317,-637.8786\" fill=\"none\" stroke=\"#000000\"/>\n<polygon fill=\"#000000\" points=\"320.5001,-637.784 317,-627.784 313.5001,-637.784 320.5001,-637.784\" stroke=\"#000000\"/>\n</g>\n<!-- 140547002786816 -->\n<g class=\"node\" id=\"node23\">\n<title>140547002786816</title>\n<polygon fill=\"none\" points=\"0,-498.5 0,-544.5 308,-544.5 308,-498.5 0,-498.5\" stroke=\"#000000\"/>\n<text fill=\"#000000\" font-family=\"Times,serif\" font-size=\"14.00\" text-anchor=\"middle\" x=\"66.5\" y=\"-517.8\">Fire5e1x1: Conv2D</text>\n<polyline fill=\"none\" points=\"133,-498.5 133,-544.5 \" stroke=\"#000000\"/>\n<text fill=\"#000000\" font-family=\"Times,serif\" font-size=\"14.00\" text-anchor=\"middle\" x=\"162\" y=\"-529.3\">input:</text>\n<polyline fill=\"none\" points=\"133,-521.5 191,-521.5 \" stroke=\"#000000\"/>\n<text fill=\"#000000\" font-family=\"Times,serif\" font-size=\"14.00\" text-anchor=\"middle\" x=\"162\" y=\"-506.3\">output:</text>\n<polyline fill=\"none\" points=\"191,-498.5 191,-544.5 \" stroke=\"#000000\"/>\n<text fill=\"#000000\" font-family=\"Times,serif\" font-size=\"14.00\" text-anchor=\"middle\" x=\"249.5\" y=\"-529.3\">(None, 3, 3, 48)</text>\n<polyline fill=\"none\" points=\"191,-521.5 308,-521.5 \" stroke=\"#000000\"/>\n<text fill=\"#000000\" font-family=\"Times,serif\" font-size=\"14.00\" text-anchor=\"middle\" x=\"249.5\" y=\"-506.3\">(None, 3, 3, 192)</text>\n</g>\n<!-- 140547002789392&#45;&gt;140547002786816 -->\n<g class=\"edge\" id=\"edge25\">\n<title>140547002789392-&gt;140547002786816</title>\n<path d=\"M271.5954,-581.3799C251.9838,-571.3936 228.8777,-559.6279 208.3617,-549.1811\" fill=\"none\" stroke=\"#000000\"/>\n<polygon fill=\"#000000\" points=\"209.9429,-546.0587 199.4435,-544.6399 206.7666,-552.2966 209.9429,-546.0587\" stroke=\"#000000\"/>\n</g>\n<!-- 140547002553960 -->\n<g class=\"node\" id=\"node24\">\n<title>140547002553960</title>\n<polygon fill=\"none\" points=\"326,-498.5 326,-544.5 634,-544.5 634,-498.5 326,-498.5\" stroke=\"#000000\"/>\n<text fill=\"#000000\" font-family=\"Times,serif\" font-size=\"14.00\" text-anchor=\"middle\" x=\"392.5\" y=\"-517.8\">Fire5e3x3: Conv2D</text>\n<polyline fill=\"none\" points=\"459,-498.5 459,-544.5 \" stroke=\"#000000\"/>\n<text fill=\"#000000\" font-family=\"Times,serif\" font-size=\"14.00\" text-anchor=\"middle\" x=\"488\" y=\"-529.3\">input:</text>\n<polyline fill=\"none\" points=\"459,-521.5 517,-521.5 \" stroke=\"#000000\"/>\n<text fill=\"#000000\" font-family=\"Times,serif\" font-size=\"14.00\" text-anchor=\"middle\" x=\"488\" y=\"-506.3\">output:</text>\n<polyline fill=\"none\" points=\"517,-498.5 517,-544.5 \" stroke=\"#000000\"/>\n<text fill=\"#000000\" font-family=\"Times,serif\" font-size=\"14.00\" text-anchor=\"middle\" x=\"575.5\" y=\"-529.3\">(None, 3, 3, 48)</text>\n<polyline fill=\"none\" points=\"517,-521.5 634,-521.5 \" stroke=\"#000000\"/>\n<text fill=\"#000000\" font-family=\"Times,serif\" font-size=\"14.00\" text-anchor=\"middle\" x=\"575.5\" y=\"-506.3\">(None, 3, 3, 192)</text>\n</g>\n<!-- 140547002789392&#45;&gt;140547002553960 -->\n<g class=\"edge\" id=\"edge26\">\n<title>140547002789392-&gt;140547002553960</title>\n<path d=\"M362.4046,-581.3799C382.0162,-571.3936 405.1223,-559.6279 425.6383,-549.1811\" fill=\"none\" stroke=\"#000000\"/>\n<polygon fill=\"#000000\" points=\"427.2334,-552.2966 434.5565,-544.6399 424.0571,-546.0587 427.2334,-552.2966\" stroke=\"#000000\"/>\n</g>\n<!-- 140547001460496 -->\n<g class=\"node\" id=\"node25\">\n<title>140547001460496</title>\n<polygon fill=\"none\" points=\"109,-415.5 109,-461.5 525,-461.5 525,-415.5 109,-415.5\" stroke=\"#000000\"/>\n<text fill=\"#000000\" font-family=\"Times,serif\" font-size=\"14.00\" text-anchor=\"middle\" x=\"171\" y=\"-434.8\">Fire5: Concatenate</text>\n<polyline fill=\"none\" points=\"233,-415.5 233,-461.5 \" stroke=\"#000000\"/>\n<text fill=\"#000000\" font-family=\"Times,serif\" font-size=\"14.00\" text-anchor=\"middle\" x=\"262\" y=\"-446.3\">input:</text>\n<polyline fill=\"none\" points=\"233,-438.5 291,-438.5 \" stroke=\"#000000\"/>\n<text fill=\"#000000\" font-family=\"Times,serif\" font-size=\"14.00\" text-anchor=\"middle\" x=\"262\" y=\"-423.3\">output:</text>\n<polyline fill=\"none\" points=\"291,-415.5 291,-461.5 \" stroke=\"#000000\"/>\n<text fill=\"#000000\" font-family=\"Times,serif\" font-size=\"14.00\" text-anchor=\"middle\" x=\"408\" y=\"-446.3\">[(None, 3, 3, 192), (None, 3, 3, 192)]</text>\n<polyline fill=\"none\" points=\"291,-438.5 525,-438.5 \" stroke=\"#000000\"/>\n<text fill=\"#000000\" font-family=\"Times,serif\" font-size=\"14.00\" text-anchor=\"middle\" x=\"408\" y=\"-423.3\">(None, 3, 3, 384)</text>\n</g>\n<!-- 140547002786816&#45;&gt;140547001460496 -->\n<g class=\"edge\" id=\"edge27\">\n<title>140547002786816-&gt;140547001460496</title>\n<path d=\"M199.4046,-498.3799C219.0162,-488.3936 242.1223,-476.6279 262.6383,-466.1811\" fill=\"none\" stroke=\"#000000\"/>\n<polygon fill=\"#000000\" points=\"264.2334,-469.2966 271.5565,-461.6399 261.0571,-463.0587 264.2334,-469.2966\" stroke=\"#000000\"/>\n</g>\n<!-- 140547002553960&#45;&gt;140547001460496 -->\n<g class=\"edge\" id=\"edge28\">\n<title>140547002553960-&gt;140547001460496</title>\n<path d=\"M434.5954,-498.3799C414.9838,-488.3936 391.8777,-476.6279 371.3617,-466.1811\" fill=\"none\" stroke=\"#000000\"/>\n<polygon fill=\"#000000\" points=\"372.9429,-463.0587 362.4435,-461.6399 369.7666,-469.2966 372.9429,-463.0587\" stroke=\"#000000\"/>\n</g>\n<!-- 140547001459152 -->\n<g class=\"node\" id=\"node26\">\n<title>140547001459152</title>\n<polygon fill=\"none\" points=\"142.5,-332.5 142.5,-378.5 491.5,-378.5 491.5,-332.5 142.5,-332.5\" stroke=\"#000000\"/>\n<text fill=\"#000000\" font-family=\"Times,serif\" font-size=\"14.00\" text-anchor=\"middle\" x=\"229.5\" y=\"-351.8\">Maxpool5: MaxPooling2D</text>\n<polyline fill=\"none\" points=\"316.5,-332.5 316.5,-378.5 \" stroke=\"#000000\"/>\n<text fill=\"#000000\" font-family=\"Times,serif\" font-size=\"14.00\" text-anchor=\"middle\" x=\"345.5\" y=\"-363.3\">input:</text>\n<polyline fill=\"none\" points=\"316.5,-355.5 374.5,-355.5 \" stroke=\"#000000\"/>\n<text fill=\"#000000\" font-family=\"Times,serif\" font-size=\"14.00\" text-anchor=\"middle\" x=\"345.5\" y=\"-340.3\">output:</text>\n<polyline fill=\"none\" points=\"374.5,-332.5 374.5,-378.5 \" stroke=\"#000000\"/>\n<text fill=\"#000000\" font-family=\"Times,serif\" font-size=\"14.00\" text-anchor=\"middle\" x=\"433\" y=\"-363.3\">(None, 3, 3, 384)</text>\n<polyline fill=\"none\" points=\"374.5,-355.5 491.5,-355.5 \" stroke=\"#000000\"/>\n<text fill=\"#000000\" font-family=\"Times,serif\" font-size=\"14.00\" text-anchor=\"middle\" x=\"433\" y=\"-340.3\">(None, 1, 1, 384)</text>\n</g>\n<!-- 140547001460496&#45;&gt;140547001459152 -->\n<g class=\"edge\" id=\"edge29\">\n<title>140547001460496-&gt;140547001459152</title>\n<path d=\"M317,-415.3799C317,-407.1745 317,-397.7679 317,-388.8786\" fill=\"none\" stroke=\"#000000\"/>\n<polygon fill=\"#000000\" points=\"320.5001,-388.784 317,-378.784 313.5001,-388.784 320.5001,-388.784\" stroke=\"#000000\"/>\n</g>\n<!-- 140547001458816 -->\n<g class=\"node\" id=\"node27\">\n<title>140547001458816</title>\n<polygon fill=\"none\" points=\"168.5,-249.5 168.5,-295.5 465.5,-295.5 465.5,-249.5 168.5,-249.5\" stroke=\"#000000\"/>\n<text fill=\"#000000\" font-family=\"Times,serif\" font-size=\"14.00\" text-anchor=\"middle\" x=\"229.5\" y=\"-268.8\">Dropout: Dropout</text>\n<polyline fill=\"none\" points=\"290.5,-249.5 290.5,-295.5 \" stroke=\"#000000\"/>\n<text fill=\"#000000\" font-family=\"Times,serif\" font-size=\"14.00\" text-anchor=\"middle\" x=\"319.5\" y=\"-280.3\">input:</text>\n<polyline fill=\"none\" points=\"290.5,-272.5 348.5,-272.5 \" stroke=\"#000000\"/>\n<text fill=\"#000000\" font-family=\"Times,serif\" font-size=\"14.00\" text-anchor=\"middle\" x=\"319.5\" y=\"-257.3\">output:</text>\n<polyline fill=\"none\" points=\"348.5,-249.5 348.5,-295.5 \" stroke=\"#000000\"/>\n<text fill=\"#000000\" font-family=\"Times,serif\" font-size=\"14.00\" text-anchor=\"middle\" x=\"407\" y=\"-280.3\">(None, 1, 1, 384)</text>\n<polyline fill=\"none\" points=\"348.5,-272.5 465.5,-272.5 \" stroke=\"#000000\"/>\n<text fill=\"#000000\" font-family=\"Times,serif\" font-size=\"14.00\" text-anchor=\"middle\" x=\"407\" y=\"-257.3\">(None, 1, 1, 384)</text>\n</g>\n<!-- 140547001459152&#45;&gt;140547001458816 -->\n<g class=\"edge\" id=\"edge30\">\n<title>140547001459152-&gt;140547001458816</title>\n<path d=\"M317,-332.3799C317,-324.1745 317,-314.7679 317,-305.8786\" fill=\"none\" stroke=\"#000000\"/>\n<polygon fill=\"#000000\" points=\"320.5001,-305.784 317,-295.784 313.5001,-305.784 320.5001,-305.784\" stroke=\"#000000\"/>\n</g>\n<!-- 140547001563008 -->\n<g class=\"node\" id=\"node28\">\n<title>140547001563008</title>\n<polygon fill=\"none\" points=\"172.5,-166.5 172.5,-212.5 461.5,-212.5 461.5,-166.5 172.5,-166.5\" stroke=\"#000000\"/>\n<text fill=\"#000000\" font-family=\"Times,serif\" font-size=\"14.00\" text-anchor=\"middle\" x=\"229.5\" y=\"-185.8\">Conv6: Conv2D</text>\n<polyline fill=\"none\" points=\"286.5,-166.5 286.5,-212.5 \" stroke=\"#000000\"/>\n<text fill=\"#000000\" font-family=\"Times,serif\" font-size=\"14.00\" text-anchor=\"middle\" x=\"315.5\" y=\"-197.3\">input:</text>\n<polyline fill=\"none\" points=\"286.5,-189.5 344.5,-189.5 \" stroke=\"#000000\"/>\n<text fill=\"#000000\" font-family=\"Times,serif\" font-size=\"14.00\" text-anchor=\"middle\" x=\"315.5\" y=\"-174.3\">output:</text>\n<polyline fill=\"none\" points=\"344.5,-166.5 344.5,-212.5 \" stroke=\"#000000\"/>\n<text fill=\"#000000\" font-family=\"Times,serif\" font-size=\"14.00\" text-anchor=\"middle\" x=\"403\" y=\"-197.3\">(None, 1, 1, 384)</text>\n<polyline fill=\"none\" points=\"344.5,-189.5 461.5,-189.5 \" stroke=\"#000000\"/>\n<text fill=\"#000000\" font-family=\"Times,serif\" font-size=\"14.00\" text-anchor=\"middle\" x=\"403\" y=\"-174.3\">(None, 1, 1, 10)</text>\n</g>\n<!-- 140547001458816&#45;&gt;140547001563008 -->\n<g class=\"edge\" id=\"edge31\">\n<title>140547001458816-&gt;140547001563008</title>\n<path d=\"M317,-249.3799C317,-241.1745 317,-231.7679 317,-222.8786\" fill=\"none\" stroke=\"#000000\"/>\n<polygon fill=\"#000000\" points=\"320.5001,-222.784 317,-212.784 313.5001,-222.784 320.5001,-222.784\" stroke=\"#000000\"/>\n</g>\n<!-- 140547001147576 -->\n<g class=\"node\" id=\"node29\">\n<title>140547001147576</title>\n<polygon fill=\"none\" points=\"143.5,-83.5 143.5,-129.5 490.5,-129.5 490.5,-83.5 143.5,-83.5\" stroke=\"#000000\"/>\n<text fill=\"#000000\" font-family=\"Times,serif\" font-size=\"14.00\" text-anchor=\"middle\" x=\"233\" y=\"-102.8\">Batch6: BatchNormalization</text>\n<polyline fill=\"none\" points=\"322.5,-83.5 322.5,-129.5 \" stroke=\"#000000\"/>\n<text fill=\"#000000\" font-family=\"Times,serif\" font-size=\"14.00\" text-anchor=\"middle\" x=\"351.5\" y=\"-114.3\">input:</text>\n<polyline fill=\"none\" points=\"322.5,-106.5 380.5,-106.5 \" stroke=\"#000000\"/>\n<text fill=\"#000000\" font-family=\"Times,serif\" font-size=\"14.00\" text-anchor=\"middle\" x=\"351.5\" y=\"-91.3\">output:</text>\n<polyline fill=\"none\" points=\"380.5,-83.5 380.5,-129.5 \" stroke=\"#000000\"/>\n<text fill=\"#000000\" font-family=\"Times,serif\" font-size=\"14.00\" text-anchor=\"middle\" x=\"435.5\" y=\"-114.3\">(None, 1, 1, 10)</text>\n<polyline fill=\"none\" points=\"380.5,-106.5 490.5,-106.5 \" stroke=\"#000000\"/>\n<text fill=\"#000000\" font-family=\"Times,serif\" font-size=\"14.00\" text-anchor=\"middle\" x=\"435.5\" y=\"-91.3\">(None, 1, 1, 10)</text>\n</g>\n<!-- 140547001563008&#45;&gt;140547001147576 -->\n<g class=\"edge\" id=\"edge32\">\n<title>140547001563008-&gt;140547001147576</title>\n<path d=\"M317,-166.3799C317,-158.1745 317,-148.7679 317,-139.8786\" fill=\"none\" stroke=\"#000000\"/>\n<polygon fill=\"#000000\" points=\"320.5001,-139.784 317,-129.784 313.5001,-139.784 320.5001,-139.784\" stroke=\"#000000\"/>\n</g>\n<!-- 140547001150824 -->\n<g class=\"node\" id=\"node30\">\n<title>140547001150824</title>\n<polygon fill=\"none\" points=\"97,-.5 97,-46.5 537,-46.5 537,-.5 97,-.5\" stroke=\"#000000\"/>\n<text fill=\"#000000\" font-family=\"Times,serif\" font-size=\"14.00\" text-anchor=\"middle\" x=\"233\" y=\"-19.8\">GlobalAvgPool6: GlobalAveragePooling2D</text>\n<polyline fill=\"none\" points=\"369,-.5 369,-46.5 \" stroke=\"#000000\"/>\n<text fill=\"#000000\" font-family=\"Times,serif\" font-size=\"14.00\" text-anchor=\"middle\" x=\"398\" y=\"-31.3\">input:</text>\n<polyline fill=\"none\" points=\"369,-23.5 427,-23.5 \" stroke=\"#000000\"/>\n<text fill=\"#000000\" font-family=\"Times,serif\" font-size=\"14.00\" text-anchor=\"middle\" x=\"398\" y=\"-8.3\">output:</text>\n<polyline fill=\"none\" points=\"427,-.5 427,-46.5 \" stroke=\"#000000\"/>\n<text fill=\"#000000\" font-family=\"Times,serif\" font-size=\"14.00\" text-anchor=\"middle\" x=\"482\" y=\"-31.3\">(None, 1, 1, 10)</text>\n<polyline fill=\"none\" points=\"427,-23.5 537,-23.5 \" stroke=\"#000000\"/>\n<text fill=\"#000000\" font-family=\"Times,serif\" font-size=\"14.00\" text-anchor=\"middle\" x=\"482\" y=\"-8.3\">(None, 10)</text>\n</g>\n<!-- 140547001147576&#45;&gt;140547001150824 -->\n<g class=\"edge\" id=\"edge33\">\n<title>140547001147576-&gt;140547001150824</title>\n<path d=\"M317,-83.3799C317,-75.1745 317,-65.7679 317,-56.8786\" fill=\"none\" stroke=\"#000000\"/>\n<polygon fill=\"#000000\" points=\"320.5001,-56.784 317,-46.784 313.5001,-56.784 320.5001,-56.784\" stroke=\"#000000\"/>\n</g>\n</g>\n</svg>"
          },
          "metadata": {
            "tags": []
          },
          "execution_count": 90
        }
      ]
    },
    {
      "metadata": {
        "id": "0dOjZ7M7EUbU",
        "colab_type": "code",
        "outputId": "bb37f492-a804-40ff-e95f-53bfa42d4ede",
        "colab": {
          "base_uri": "https://localhost:8080/",
          "height": 306
        }
      },
      "cell_type": "code",
      "source": [
        "model.summary()"
      ],
      "execution_count": 91,
      "outputs": [
        {
          "output_type": "stream",
          "text": [
            "__________________________________________________________________________________________________\n",
            "Layer (type)                    Output Shape         Param #     Connected to                     \n",
            "==================================================================================================\n",
            "input_a (InputLayer)            (None, 32, 32, 3)    0                                            \n",
            "__________________________________________________________________________________________________\n",
            "input_b (InputLayer)            (None, 32, 32, 3)    0                                            \n",
            "__________________________________________________________________________________________________\n",
            "model_7 (Model)                 (None, 10)           378914      input_a[0][0]                    \n",
            "                                                                 input_b[0][0]                    \n",
            "__________________________________________________________________________________________________\n",
            "lambda_4 (Lambda)               (None, 1)            0           model_7[1][0]                    \n",
            "                                                                 model_7[2][0]                    \n",
            "==================================================================================================\n",
            "Total params: 378,914\n",
            "Trainable params: 378,350\n",
            "Non-trainable params: 564\n",
            "__________________________________________________________________________________________________\n"
          ],
          "name": "stdout"
        }
      ]
    },
    {
      "metadata": {
        "id": "5PEen3f7EUbY",
        "colab_type": "code",
        "outputId": "937e5e60-0616-459c-e882-dbc7a56de6ab",
        "colab": {
          "base_uri": "https://localhost:8080/",
          "height": 316
        }
      },
      "cell_type": "code",
      "source": [
        "SVG(model_to_dot(model, show_layer_names=True, show_shapes=True).create(prog='dot', format='svg'))"
      ],
      "execution_count": 92,
      "outputs": [
        {
          "output_type": "execute_result",
          "data": {
            "text/plain": [
              "<IPython.core.display.SVG object>"
            ],
            "image/svg+xml": "<svg height=\"221pt\" viewBox=\"0.00 0.00 640.00 221.00\" width=\"640pt\" xmlns=\"http://www.w3.org/2000/svg\" xmlns:xlink=\"http://www.w3.org/1999/xlink\">\n<g class=\"graph\" id=\"graph0\" transform=\"scale(1 1) rotate(0) translate(4 217)\">\n<title>G</title>\n<polygon fill=\"#ffffff\" points=\"-4,4 -4,-217 636,-217 636,4 -4,4\" stroke=\"transparent\"/>\n<!-- 140547007481112 -->\n<g class=\"node\" id=\"node1\">\n<title>140547007481112</title>\n<polygon fill=\"none\" points=\"0,-166.5 0,-212.5 306,-212.5 306,-166.5 0,-166.5\" stroke=\"#000000\"/>\n<text fill=\"#000000\" font-family=\"Times,serif\" font-size=\"14.00\" text-anchor=\"middle\" x=\"65.5\" y=\"-185.8\">input_a: InputLayer</text>\n<polyline fill=\"none\" points=\"131,-166.5 131,-212.5 \" stroke=\"#000000\"/>\n<text fill=\"#000000\" font-family=\"Times,serif\" font-size=\"14.00\" text-anchor=\"middle\" x=\"160\" y=\"-197.3\">input:</text>\n<polyline fill=\"none\" points=\"131,-189.5 189,-189.5 \" stroke=\"#000000\"/>\n<text fill=\"#000000\" font-family=\"Times,serif\" font-size=\"14.00\" text-anchor=\"middle\" x=\"160\" y=\"-174.3\">output:</text>\n<polyline fill=\"none\" points=\"189,-166.5 189,-212.5 \" stroke=\"#000000\"/>\n<text fill=\"#000000\" font-family=\"Times,serif\" font-size=\"14.00\" text-anchor=\"middle\" x=\"247.5\" y=\"-197.3\">(None, 32, 32, 3)</text>\n<polyline fill=\"none\" points=\"189,-189.5 306,-189.5 \" stroke=\"#000000\"/>\n<text fill=\"#000000\" font-family=\"Times,serif\" font-size=\"14.00\" text-anchor=\"middle\" x=\"247.5\" y=\"-174.3\">(None, 32, 32, 3)</text>\n</g>\n<!-- 140547001063128 -->\n<g class=\"node\" id=\"node3\">\n<title>140547001063128</title>\n<polygon fill=\"none\" points=\"171,-83.5 171,-129.5 459,-129.5 459,-83.5 171,-83.5\" stroke=\"#000000\"/>\n<text fill=\"#000000\" font-family=\"Times,serif\" font-size=\"14.00\" text-anchor=\"middle\" x=\"227.5\" y=\"-102.8\">model_7: Model</text>\n<polyline fill=\"none\" points=\"284,-83.5 284,-129.5 \" stroke=\"#000000\"/>\n<text fill=\"#000000\" font-family=\"Times,serif\" font-size=\"14.00\" text-anchor=\"middle\" x=\"313\" y=\"-114.3\">input:</text>\n<polyline fill=\"none\" points=\"284,-106.5 342,-106.5 \" stroke=\"#000000\"/>\n<text fill=\"#000000\" font-family=\"Times,serif\" font-size=\"14.00\" text-anchor=\"middle\" x=\"313\" y=\"-91.3\">output:</text>\n<polyline fill=\"none\" points=\"342,-83.5 342,-129.5 \" stroke=\"#000000\"/>\n<text fill=\"#000000\" font-family=\"Times,serif\" font-size=\"14.00\" text-anchor=\"middle\" x=\"400.5\" y=\"-114.3\">(None, 32, 32, 3)</text>\n<polyline fill=\"none\" points=\"342,-106.5 459,-106.5 \" stroke=\"#000000\"/>\n<text fill=\"#000000\" font-family=\"Times,serif\" font-size=\"14.00\" text-anchor=\"middle\" x=\"400.5\" y=\"-91.3\">(None, 10)</text>\n</g>\n<!-- 140547007481112&#45;&gt;140547001063128 -->\n<g class=\"edge\" id=\"edge1\">\n<title>140547007481112-&gt;140547001063128</title>\n<path d=\"M198.126,-166.3799C217.5299,-156.4384 240.3758,-144.7334 260.6974,-134.3217\" fill=\"none\" stroke=\"#000000\"/>\n<polygon fill=\"#000000\" points=\"262.5313,-137.3148 269.8353,-129.6399 259.3394,-131.0849 262.5313,-137.3148\" stroke=\"#000000\"/>\n</g>\n<!-- 140547000654984 -->\n<g class=\"node\" id=\"node2\">\n<title>140547000654984</title>\n<polygon fill=\"none\" points=\"324,-166.5 324,-212.5 632,-212.5 632,-166.5 324,-166.5\" stroke=\"#000000\"/>\n<text fill=\"#000000\" font-family=\"Times,serif\" font-size=\"14.00\" text-anchor=\"middle\" x=\"390.5\" y=\"-185.8\">input_b: InputLayer</text>\n<polyline fill=\"none\" points=\"457,-166.5 457,-212.5 \" stroke=\"#000000\"/>\n<text fill=\"#000000\" font-family=\"Times,serif\" font-size=\"14.00\" text-anchor=\"middle\" x=\"486\" y=\"-197.3\">input:</text>\n<polyline fill=\"none\" points=\"457,-189.5 515,-189.5 \" stroke=\"#000000\"/>\n<text fill=\"#000000\" font-family=\"Times,serif\" font-size=\"14.00\" text-anchor=\"middle\" x=\"486\" y=\"-174.3\">output:</text>\n<polyline fill=\"none\" points=\"515,-166.5 515,-212.5 \" stroke=\"#000000\"/>\n<text fill=\"#000000\" font-family=\"Times,serif\" font-size=\"14.00\" text-anchor=\"middle\" x=\"573.5\" y=\"-197.3\">(None, 32, 32, 3)</text>\n<polyline fill=\"none\" points=\"515,-189.5 632,-189.5 \" stroke=\"#000000\"/>\n<text fill=\"#000000\" font-family=\"Times,serif\" font-size=\"14.00\" text-anchor=\"middle\" x=\"573.5\" y=\"-174.3\">(None, 32, 32, 3)</text>\n</g>\n<!-- 140547000654984&#45;&gt;140547001063128 -->\n<g class=\"edge\" id=\"edge2\">\n<title>140547000654984-&gt;140547001063128</title>\n<path d=\"M432.5954,-166.3799C412.9838,-156.3936 389.8777,-144.6279 369.3617,-134.1811\" fill=\"none\" stroke=\"#000000\"/>\n<polygon fill=\"#000000\" points=\"370.9429,-131.0587 360.4435,-129.6399 367.7666,-137.2966 370.9429,-131.0587\" stroke=\"#000000\"/>\n</g>\n<!-- 140547000218288 -->\n<g class=\"node\" id=\"node4\">\n<title>140547000218288</title>\n<polygon fill=\"none\" points=\"142.5,-.5 142.5,-46.5 487.5,-46.5 487.5,-.5 142.5,-.5\" stroke=\"#000000\"/>\n<text fill=\"#000000\" font-family=\"Times,serif\" font-size=\"14.00\" text-anchor=\"middle\" x=\"206.5\" y=\"-19.8\">lambda_4: Lambda</text>\n<polyline fill=\"none\" points=\"270.5,-.5 270.5,-46.5 \" stroke=\"#000000\"/>\n<text fill=\"#000000\" font-family=\"Times,serif\" font-size=\"14.00\" text-anchor=\"middle\" x=\"299.5\" y=\"-31.3\">input:</text>\n<polyline fill=\"none\" points=\"270.5,-23.5 328.5,-23.5 \" stroke=\"#000000\"/>\n<text fill=\"#000000\" font-family=\"Times,serif\" font-size=\"14.00\" text-anchor=\"middle\" x=\"299.5\" y=\"-8.3\">output:</text>\n<polyline fill=\"none\" points=\"328.5,-.5 328.5,-46.5 \" stroke=\"#000000\"/>\n<text fill=\"#000000\" font-family=\"Times,serif\" font-size=\"14.00\" text-anchor=\"middle\" x=\"408\" y=\"-31.3\">[(None, 10), (None, 10)]</text>\n<polyline fill=\"none\" points=\"328.5,-23.5 487.5,-23.5 \" stroke=\"#000000\"/>\n<text fill=\"#000000\" font-family=\"Times,serif\" font-size=\"14.00\" text-anchor=\"middle\" x=\"408\" y=\"-8.3\">(None, 1)</text>\n</g>\n<!-- 140547001063128&#45;&gt;140547000218288 -->\n<g class=\"edge\" id=\"edge3\">\n<title>140547001063128-&gt;140547000218288</title>\n<path d=\"M315,-83.3799C315,-75.1745 315,-65.7679 315,-56.8786\" fill=\"none\" stroke=\"#000000\"/>\n<polygon fill=\"#000000\" points=\"318.5001,-56.784 315,-46.784 311.5001,-56.784 318.5001,-56.784\" stroke=\"#000000\"/>\n</g>\n</g>\n</svg>"
          },
          "metadata": {
            "tags": []
          },
          "execution_count": 92
        }
      ]
    },
    {
      "metadata": {
        "id": "rbgID2n7EUba",
        "colab_type": "code",
        "outputId": "824fe8a5-79bf-4906-e360-51e9b755bad6",
        "colab": {
          "base_uri": "https://localhost:8080/",
          "height": 1958
        }
      },
      "cell_type": "code",
      "source": [
        "# train\n",
        "rms = RMSprop()\n",
        "model.compile(loss=contrastive_loss, optimizer=rms, metrics=[accuracy])\n",
        "checkpointer = ModelCheckpoint(\n",
        "          filepath='model.hfs5',\n",
        "          save_best_only=True)\n",
        "history = model.fit([tr_pairs[:, 0], tr_pairs[:, 1]], tr_y,\n",
        "          batch_size=128,\n",
        "          epochs=epochs,\n",
        "          validation_data=([te_pairs[:, 0], te_pairs[:, 1]], te_y),\n",
        "          callbacks=[checkpointer])"
      ],
      "execution_count": 0,
      "outputs": [
        {
          "output_type": "stream",
          "text": [
            "Train on 99980 samples, validate on 19980 samples\n",
            "Epoch 1/100\n",
            "99980/99980 [==============================] - 80s 803us/step - loss: 1.6321 - accuracy: 0.5755 - val_loss: 0.2843 - val_accuracy: 0.6633\n",
            "Epoch 2/100\n",
            "99980/99980 [==============================] - 73s 728us/step - loss: 0.2061 - accuracy: 0.6931 - val_loss: 0.2126 - val_accuracy: 0.6913\n",
            "Epoch 3/100\n",
            "99980/99980 [==============================] - 68s 685us/step - loss: 0.1836 - accuracy: 0.7291 - val_loss: 0.2188 - val_accuracy: 0.6643\n",
            "Epoch 4/100\n",
            "99980/99980 [==============================] - 68s 682us/step - loss: 0.1685 - accuracy: 0.7551 - val_loss: 0.2227 - val_accuracy: 0.6584\n",
            "Epoch 5/100\n",
            "99980/99980 [==============================] - 65s 645us/step - loss: 0.1573 - accuracy: 0.7739 - val_loss: 0.1976 - val_accuracy: 0.7075\n",
            "Epoch 6/100\n",
            "99980/99980 [==============================] - 65s 646us/step - loss: 0.1481 - accuracy: 0.7898 - val_loss: 0.1800 - val_accuracy: 0.7320\n",
            "Epoch 7/100\n",
            "99980/99980 [==============================] - 67s 665us/step - loss: 0.1394 - accuracy: 0.8058 - val_loss: 0.1857 - val_accuracy: 0.7201\n",
            "Epoch 8/100\n",
            "99980/99980 [==============================] - 66s 661us/step - loss: 0.1324 - accuracy: 0.8188 - val_loss: 0.2250 - val_accuracy: 0.6573\n",
            "Epoch 9/100\n",
            "99980/99980 [==============================] - 65s 647us/step - loss: 0.1254 - accuracy: 0.8304 - val_loss: 0.1752 - val_accuracy: 0.7407\n",
            "Epoch 10/100\n",
            "99980/99980 [==============================] - 65s 646us/step - loss: 0.1182 - accuracy: 0.8421 - val_loss: 0.1671 - val_accuracy: 0.7543\n",
            "Epoch 11/100\n",
            "99980/99980 [==============================] - 64s 642us/step - loss: 0.1136 - accuracy: 0.8512 - val_loss: 0.1674 - val_accuracy: 0.7545\n",
            "Epoch 12/100\n",
            "99980/99980 [==============================] - 64s 644us/step - loss: 0.1084 - accuracy: 0.8592 - val_loss: 0.2102 - val_accuracy: 0.6923\n",
            "Epoch 13/100\n",
            "99980/99980 [==============================] - 65s 652us/step - loss: 0.1045 - accuracy: 0.8678 - val_loss: 0.1723 - val_accuracy: 0.7465\n",
            "Epoch 14/100\n",
            "99980/99980 [==============================] - 65s 649us/step - loss: 0.0990 - accuracy: 0.8753 - val_loss: 0.1608 - val_accuracy: 0.7652\n",
            "Epoch 15/100\n",
            "99980/99980 [==============================] - 64s 645us/step - loss: 0.0943 - accuracy: 0.8820 - val_loss: 0.1831 - val_accuracy: 0.7363\n",
            "Epoch 16/100\n",
            "99980/99980 [==============================] - 63s 634us/step - loss: 0.0913 - accuracy: 0.8879 - val_loss: 0.1658 - val_accuracy: 0.7555\n",
            "Epoch 17/100\n",
            "99980/99980 [==============================] - 62s 621us/step - loss: 0.0868 - accuracy: 0.8931 - val_loss: 0.1630 - val_accuracy: 0.7664\n",
            "Epoch 18/100\n",
            "99980/99980 [==============================] - 62s 623us/step - loss: 0.0842 - accuracy: 0.8962 - val_loss: 0.1721 - val_accuracy: 0.7519\n",
            "Epoch 19/100\n",
            "99980/99980 [==============================] - 62s 622us/step - loss: 0.0818 - accuracy: 0.9022 - val_loss: 0.1991 - val_accuracy: 0.7197\n",
            "Epoch 20/100\n",
            "99980/99980 [==============================] - 64s 639us/step - loss: 0.0781 - accuracy: 0.9066 - val_loss: 0.1690 - val_accuracy: 0.7586\n",
            "Epoch 21/100\n",
            "99980/99980 [==============================] - 66s 660us/step - loss: 0.0758 - accuracy: 0.9093 - val_loss: 0.1625 - val_accuracy: 0.7699\n",
            "Epoch 22/100\n",
            "99980/99980 [==============================] - 66s 662us/step - loss: 0.0734 - accuracy: 0.9131 - val_loss: 0.1596 - val_accuracy: 0.7703\n",
            "Epoch 23/100\n",
            "99980/99980 [==============================] - 66s 665us/step - loss: 0.0707 - accuracy: 0.9167 - val_loss: 0.2315 - val_accuracy: 0.6843\n",
            "Epoch 24/100\n",
            "99980/99980 [==============================] - 66s 657us/step - loss: 0.0695 - accuracy: 0.9198 - val_loss: 0.1543 - val_accuracy: 0.7854\n",
            "Epoch 25/100\n",
            "99980/99980 [==============================] - 62s 625us/step - loss: 0.0667 - accuracy: 0.9223 - val_loss: 0.2175 - val_accuracy: 0.6941\n",
            "Epoch 26/100\n",
            "99980/99980 [==============================] - 58s 576us/step - loss: 0.0651 - accuracy: 0.9243 - val_loss: 0.1809 - val_accuracy: 0.7483\n",
            "Epoch 27/100\n",
            "99980/99980 [==============================] - 60s 605us/step - loss: 0.0633 - accuracy: 0.9280 - val_loss: 0.1634 - val_accuracy: 0.7688\n",
            "Epoch 28/100\n",
            "99980/99980 [==============================] - 67s 674us/step - loss: 0.0618 - accuracy: 0.9303 - val_loss: 0.1819 - val_accuracy: 0.7544\n",
            "Epoch 29/100\n",
            "99980/99980 [==============================] - 67s 673us/step - loss: 0.0597 - accuracy: 0.9333 - val_loss: 0.2287 - val_accuracy: 0.7027\n",
            "Epoch 30/100\n",
            "99980/99980 [==============================] - 66s 662us/step - loss: 0.0585 - accuracy: 0.9347 - val_loss: 0.2058 - val_accuracy: 0.7377\n",
            "Epoch 31/100\n",
            "99980/99980 [==============================] - 63s 629us/step - loss: 0.0577 - accuracy: 0.9358 - val_loss: 0.1703 - val_accuracy: 0.7669\n",
            "Epoch 32/100\n",
            "99980/99980 [==============================] - 63s 633us/step - loss: 0.0566 - accuracy: 0.9379 - val_loss: 0.2099 - val_accuracy: 0.7209\n",
            "Epoch 33/100\n",
            "99980/99980 [==============================] - 63s 632us/step - loss: 0.0555 - accuracy: 0.9401 - val_loss: 0.1939 - val_accuracy: 0.7427\n",
            "Epoch 34/100\n",
            "99980/99980 [==============================] - 63s 631us/step - loss: 0.0541 - accuracy: 0.9414 - val_loss: 0.1822 - val_accuracy: 0.7652\n",
            "Epoch 35/100\n",
            "99980/99980 [==============================] - 64s 637us/step - loss: 0.0533 - accuracy: 0.9424 - val_loss: 0.1751 - val_accuracy: 0.7734\n",
            "Epoch 36/100\n",
            "99980/99980 [==============================] - 64s 637us/step - loss: 0.0529 - accuracy: 0.9431 - val_loss: 0.2014 - val_accuracy: 0.7400\n",
            "Epoch 37/100\n",
            "99980/99980 [==============================] - 64s 642us/step - loss: 0.0513 - accuracy: 0.9456 - val_loss: 0.2179 - val_accuracy: 0.7240\n",
            "Epoch 38/100\n",
            "99980/99980 [==============================] - 64s 642us/step - loss: 0.0517 - accuracy: 0.9467 - val_loss: 0.1685 - val_accuracy: 0.7774\n",
            "Epoch 39/100\n",
            "99980/99980 [==============================] - 63s 631us/step - loss: 0.0498 - accuracy: 0.9484 - val_loss: 0.1784 - val_accuracy: 0.7701\n",
            "Epoch 40/100\n",
            "99980/99980 [==============================] - 63s 629us/step - loss: 0.0500 - accuracy: 0.9492 - val_loss: 0.2154 - val_accuracy: 0.7361\n",
            "Epoch 41/100\n",
            "99980/99980 [==============================] - 64s 639us/step - loss: 0.0487 - accuracy: 0.9510 - val_loss: 0.1791 - val_accuracy: 0.7679\n",
            "Epoch 42/100\n",
            "99980/99980 [==============================] - 64s 641us/step - loss: 0.0476 - accuracy: 0.9511 - val_loss: 0.2057 - val_accuracy: 0.7285\n",
            "Epoch 43/100\n",
            "99980/99980 [==============================] - 65s 646us/step - loss: 0.0467 - accuracy: 0.9521 - val_loss: 0.2016 - val_accuracy: 0.7458\n",
            "Epoch 44/100\n",
            "99980/99980 [==============================] - 64s 638us/step - loss: 0.0463 - accuracy: 0.9522 - val_loss: 0.1872 - val_accuracy: 0.7577\n",
            "Epoch 45/100\n",
            "99980/99980 [==============================] - 63s 635us/step - loss: 0.0459 - accuracy: 0.9534 - val_loss: 0.2106 - val_accuracy: 0.7329\n",
            "Epoch 46/100\n",
            "99980/99980 [==============================] - 61s 614us/step - loss: 0.0446 - accuracy: 0.9549 - val_loss: 0.2080 - val_accuracy: 0.7472\n",
            "Epoch 47/100\n",
            "99980/99980 [==============================] - 60s 604us/step - loss: 0.0444 - accuracy: 0.9557 - val_loss: 0.2276 - val_accuracy: 0.7187\n",
            "Epoch 48/100\n",
            "99980/99980 [==============================] - 61s 614us/step - loss: 0.0441 - accuracy: 0.9558 - val_loss: 0.1898 - val_accuracy: 0.7631\n",
            "Epoch 49/100\n",
            "99980/99980 [==============================] - 62s 624us/step - loss: 0.0437 - accuracy: 0.9566 - val_loss: 0.1973 - val_accuracy: 0.7488\n",
            "Epoch 50/100\n",
            "99980/99980 [==============================] - 64s 643us/step - loss: 0.0433 - accuracy: 0.9575 - val_loss: 0.1775 - val_accuracy: 0.7773\n",
            "Epoch 51/100\n",
            "99980/99980 [==============================] - 67s 666us/step - loss: 0.0427 - accuracy: 0.9582 - val_loss: 0.2448 - val_accuracy: 0.7046\n",
            "Epoch 52/100\n",
            "99980/99980 [==============================] - 66s 664us/step - loss: 0.0419 - accuracy: 0.9591 - val_loss: 0.1985 - val_accuracy: 0.7447\n",
            "Epoch 53/100\n",
            "99980/99980 [==============================] - 67s 668us/step - loss: 0.0424 - accuracy: 0.9602 - val_loss: 0.1794 - val_accuracy: 0.7781\n",
            "Epoch 54/100\n",
            "99980/99980 [==============================] - 67s 668us/step - loss: 0.0413 - accuracy: 0.9603 - val_loss: 0.2147 - val_accuracy: 0.7276\n",
            "Epoch 55/100\n",
            "99980/99980 [==============================] - 66s 663us/step - loss: 0.0413 - accuracy: 0.9602 - val_loss: 0.1890 - val_accuracy: 0.7602\n",
            "Epoch 56/100\n",
            "47872/99980 [=============>................] - ETA: 32s - loss: 0.0401 - accuracy: 0.9632"
          ],
          "name": "stdout"
        }
      ]
    },
    {
      "metadata": {
        "id": "bscCU0sjEUbc",
        "colab_type": "code",
        "colab": {}
      },
      "cell_type": "code",
      "source": [
        "# Plot training & validation accuracy values\n",
        "plt.plot(history.history['accuracy'])\n",
        "plt.plot(history.history['val_accuracy'])\n",
        "plt.title('Model accuracy')\n",
        "plt.ylabel('Accuracy')\n",
        "plt.xlabel('Epoch')\n",
        "plt.legend(['Train', 'Test'], loc='upper left')\n",
        "plt.show()\n",
        "\n",
        "# Plot training & validation loss values\n",
        "plt.plot(history.history['loss'])\n",
        "plt.plot(history.history['val_loss'])\n",
        "plt.title('Model loss')\n",
        "plt.ylabel('Loss')\n",
        "plt.xlabel('Epoch')\n",
        "plt.legend(['Train', 'Test'], loc='upper left')\n",
        "plt.show()"
      ],
      "execution_count": 0,
      "outputs": []
    },
    {
      "metadata": {
        "id": "7wcSo1ipEUbf",
        "colab_type": "code",
        "colab": {}
      },
      "cell_type": "code",
      "source": [
        "# compute final accuracy on training and test sets\n",
        "y_pred = model.predict([tr_pairs[:, 0], tr_pairs[:, 1]])\n",
        "tr_acc = compute_accuracy(tr_y, y_pred)\n",
        "y_pred = model.predict([te_pairs[:, 0], te_pairs[:, 1]])\n",
        "te_acc = compute_accuracy(te_y, y_pred)\n"
      ],
      "execution_count": 0,
      "outputs": []
    },
    {
      "metadata": {
        "id": "EbjxY1ZrEUbh",
        "colab_type": "code",
        "colab": {}
      },
      "cell_type": "code",
      "source": [
        "print('* Accuracy on training set: %0.2f%%' % (100 * tr_acc))\n",
        "print('* Accuracy on test set: %0.2f%%' % (100 * te_acc))\n"
      ],
      "execution_count": 0,
      "outputs": []
    },
    {
      "metadata": {
        "id": "ro_g0osSEUbk",
        "colab_type": "code",
        "colab": {}
      },
      "cell_type": "code",
      "source": [
        "model.evaluate([te_pairs[:, 0], te_pairs[:, 1]], te_y)"
      ],
      "execution_count": 0,
      "outputs": []
    },
    {
      "metadata": {
        "id": "2bQdqwwES-0l",
        "colab_type": "code",
        "colab": {
          "base_uri": "https://localhost:8080/",
          "height": 190
        },
        "outputId": "d4804b3f-cd42-4db4-f587-c39fc4602bd7"
      },
      "cell_type": "code",
      "source": [
        "model = load_model('model.hfs5', custom_objects={'contrastive_loss':contrastive_loss})"
      ],
      "execution_count": 19,
      "outputs": [
        {
          "output_type": "stream",
          "text": [
            "WARNING:tensorflow:From /usr/local/lib/python3.6/dist-packages/tensorflow/python/framework/op_def_library.py:263: colocate_with (from tensorflow.python.framework.ops) is deprecated and will be removed in a future version.\n",
            "Instructions for updating:\n",
            "Colocations handled automatically by placer.\n",
            "WARNING:tensorflow:From /usr/local/lib/python3.6/dist-packages/keras/backend/tensorflow_backend.py:3445: calling dropout (from tensorflow.python.ops.nn_ops) with keep_prob is deprecated and will be removed in a future version.\n",
            "Instructions for updating:\n",
            "Please use `rate` instead of `keep_prob`. Rate should be set to `rate = 1 - keep_prob`.\n",
            "WARNING:tensorflow:From /usr/local/lib/python3.6/dist-packages/tensorflow/python/ops/math_ops.py:3066: to_int32 (from tensorflow.python.ops.math_ops) is deprecated and will be removed in a future version.\n",
            "Instructions for updating:\n",
            "Use tf.cast instead.\n"
          ],
          "name": "stdout"
        }
      ]
    },
    {
      "metadata": {
        "id": "HJE-anlAgm81",
        "colab_type": "code",
        "colab": {
          "base_uri": "https://localhost:8080/",
          "height": 5117
        },
        "outputId": "d030ad59-9059-4ac1-fd7e-8d9da7e05269"
      },
      "cell_type": "code",
      "source": [
        "digit_indices = [np.where(y_test == i)[0] for i in range(num_classes)]\n",
        "for i in range(num_classes):\n",
        "  for j in range(num_classes):\n",
        "    print(i, j)\n",
        "    te_pairs, te_y = create_pairs_per_class(x_test, digit_indices, i, j)\n",
        "    result = model.evaluate([te_pairs[:, 0], te_pairs[:, 1]], te_y)\n",
        "    print(result)"
      ],
      "execution_count": 20,
      "outputs": [
        {
          "output_type": "stream",
          "text": [
            "0 0\n",
            "1998/1998 [==============================] - 3s 1ms/step\n",
            "[0.6098738317494398, 0.6516516515919873]\n",
            "0 1\n",
            "1998/1998 [==============================] - 0s 233us/step\n",
            "[0.1338126017852827, 0.18668668670160277]\n",
            "0 2\n",
            "1998/1998 [==============================] - 0s 232us/step\n",
            "[0.18874192716660085, 0.24424424425916033]\n",
            "0 3\n",
            "1998/1998 [==============================] - 0s 218us/step\n",
            "[0.14309392945544497, 0.19319319320810927]\n",
            "0 4\n",
            "1998/1998 [==============================] - 0s 222us/step\n",
            "[0.15148392189909388, 0.19969969974444793]\n",
            "0 5\n",
            "1998/1998 [==============================] - 0s 216us/step\n",
            "[0.13192575809744386, 0.1746746747194229]\n",
            "0 6\n",
            "1998/1998 [==============================] - 0s 222us/step\n",
            "[0.1384023660057419, 0.1716716717164199]\n",
            "0 7\n",
            "1998/1998 [==============================] - 0s 216us/step\n",
            "[0.12515759341291957, 0.1676676677124159]\n",
            "0 8\n",
            "1998/1998 [==============================] - 0s 218us/step\n",
            "[0.25447636953106634, 0.3993993993993994]\n",
            "0 9\n",
            "1998/1998 [==============================] - 0s 216us/step\n",
            "[0.14998442589401365, 0.20420420429370068]\n",
            "1 0\n",
            "1998/1998 [==============================] - 0s 220us/step\n",
            "[0.07178889452903955, 0.08908908913383733]\n",
            "1 1\n",
            "1998/1998 [==============================] - 0s 215us/step\n",
            "[0.5478501218455929, 0.554054054233047]\n",
            "1 2\n",
            "1998/1998 [==============================] - 0s 226us/step\n",
            "[0.05322911488162624, 0.06256256258493668]\n",
            "1 3\n",
            "1998/1998 [==============================] - 0s 215us/step\n",
            "[0.05805174940385976, 0.06656656658894068]\n",
            "1 4\n",
            "1998/1998 [==============================] - 0s 218us/step\n",
            "[0.05213060096890719, 0.05905905908143318]\n",
            "1 5\n",
            "1998/1998 [==============================] - 0s 216us/step\n",
            "[0.05550651539777134, 0.06306306308543717]\n",
            "1 6\n",
            "1998/1998 [==============================] - 0s 218us/step\n",
            "[0.05589694181481401, 0.0645645646093128]\n",
            "1 7\n",
            "1998/1998 [==============================] - 0s 233us/step\n",
            "[0.05443658827392905, 0.06256256258493668]\n",
            "1 8\n",
            "1998/1998 [==============================] - 0s 217us/step\n",
            "[0.09147376256870914, 0.10560560562797972]\n",
            "1 9\n",
            "1998/1998 [==============================] - 0s 221us/step\n",
            "[0.35289222222787364, 0.47997997997998]\n",
            "2 0\n",
            "1998/1998 [==============================] - 0s 216us/step\n",
            "[0.19381240642703212, 0.26326326335275974]\n",
            "2 1\n",
            "1998/1998 [==============================] - 0s 219us/step\n",
            "[0.1203233000931439, 0.17917917919409526]\n",
            "2 2\n",
            "1998/1998 [==============================] - 0s 211us/step\n",
            "[0.6149443081907324, 0.6706706707899993]\n",
            "2 3\n",
            "1998/1998 [==============================] - 0s 225us/step\n",
            "[0.21382157868510848, 0.3188188188337349]\n",
            "2 4\n",
            "1998/1998 [==============================] - 0s 212us/step\n",
            "[0.30537458926111133, 0.4979979980278302]\n",
            "2 5\n",
            "1998/1998 [==============================] - 0s 229us/step\n",
            "[0.19525806944410842, 0.2847847848444491]\n",
            "2 6\n",
            "1998/1998 [==============================] - 0s 215us/step\n",
            "[0.18880211507474576, 0.26326326335275974]\n",
            "2 7\n",
            "1998/1998 [==============================] - 0s 224us/step\n",
            "[0.16377021193325342, 0.2337337337486498]\n",
            "2 8\n",
            "1998/1998 [==============================] - 0s 216us/step\n",
            "[0.14115412143973616, 0.19869869878819515]\n",
            "2 9\n",
            "1998/1998 [==============================] - 0s 218us/step\n",
            "[0.12415149502150409, 0.18218218219709825]\n",
            "3 0\n",
            "1998/1998 [==============================] - 0s 219us/step\n",
            "[0.18940509041329404, 0.28528528537478176]\n",
            "3 1\n",
            "1998/1998 [==============================] - 0s 217us/step\n",
            "[0.16638661816611783, 0.2562562562711723]\n",
            "3 2\n",
            "1998/1998 [==============================] - 0s 214us/step\n",
            "[0.25506225962180634, 0.39189189190680795]\n",
            "3 3\n",
            "1998/1998 [==============================] - 0s 222us/step\n",
            "[0.6561849870242633, 0.7437437438630724]\n",
            "3 4\n",
            "1998/1998 [==============================] - 0s 221us/step\n",
            "[0.27069396114683486, 0.3943943945733873]\n",
            "3 5\n",
            "1998/1998 [==============================] - 0s 222us/step\n",
            "[0.34133290260045734, 0.5135135135731779]\n",
            "3 6\n",
            "1998/1998 [==============================] - 0s 211us/step\n",
            "[0.22558438263318917, 0.3393393393990036]\n",
            "3 7\n",
            "1998/1998 [==============================] - 0s 224us/step\n",
            "[0.2235679646750709, 0.3213213213362374]\n",
            "3 8\n",
            "1998/1998 [==============================] - 0s 225us/step\n",
            "[0.17091659245428978, 0.2617617617766778]\n",
            "3 9\n",
            "1998/1998 [==============================] - 0s 212us/step\n",
            "[0.1706391005097209, 0.2617617617766778]\n",
            "4 0\n",
            "1998/1998 [==============================] - 0s 219us/step\n",
            "[0.12493798056164303, 0.1661661662109144]\n",
            "4 1\n",
            "1998/1998 [==============================] - 0s 213us/step\n",
            "[0.08760836615308269, 0.12312312316787136]\n",
            "4 2\n",
            "1998/1998 [==============================] - 0s 219us/step\n",
            "[0.27375817112438194, 0.4454454455051097]\n",
            "4 3\n",
            "1998/1998 [==============================] - 0s 218us/step\n",
            "[0.19783686234189704, 0.26876876876876876]\n",
            "4 4\n",
            "1998/1998 [==============================] - 0s 217us/step\n",
            "[0.5833278939769313, 0.6181181180584538]\n",
            "4 5\n",
            "1998/1998 [==============================] - 0s 218us/step\n",
            "[0.18079982159493324, 0.2412412413307377]\n",
            "4 6\n",
            "1998/1998 [==============================] - 0s 216us/step\n",
            "[0.135536538558202, 0.19019019020510627]\n",
            "4 7\n",
            "1998/1998 [==============================] - 0s 218us/step\n",
            "[0.16944642934027138, 0.22422422426897246]\n",
            "4 8\n",
            "1998/1998 [==============================] - 0s 226us/step\n",
            "[0.098352035841307, 0.13763763768238588]\n",
            "4 9\n",
            "1998/1998 [==============================] - 0s 215us/step\n",
            "[0.08982894955961793, 0.12562562567037386]\n",
            "5 0\n",
            "1998/1998 [==============================] - 0s 221us/step\n",
            "[0.14795181565396898, 0.21471471473708884]\n",
            "5 1\n",
            "1998/1998 [==============================] - 0s 212us/step\n",
            "[0.13355628019189453, 0.2007007007230748]\n",
            "5 2\n",
            "1998/1998 [==============================] - 0s 215us/step\n",
            "[0.20621364812056223, 0.30580580582072187]\n",
            "5 3\n",
            "1998/1998 [==============================] - 0s 219us/step\n",
            "[0.31104779829671075, 0.46146146147637757]\n",
            "5 4\n",
            "1998/1998 [==============================] - 0s 217us/step\n",
            "[0.2233718219730589, 0.3148148148297309]\n",
            "5 5\n",
            "1998/1998 [==============================] - 0s 219us/step\n",
            "[0.6258998952947699, 0.6916916918706846]\n",
            "5 6\n",
            "1998/1998 [==============================] - 0s 213us/step\n",
            "[0.17291536293289922, 0.24774774777012187]\n",
            "5 7\n",
            "1998/1998 [==============================] - 0s 225us/step\n",
            "[0.2060901199777921, 0.28528528530020136]\n",
            "5 8\n",
            "1998/1998 [==============================] - 0s 218us/step\n",
            "[0.13846870174666903, 0.20720720722958133]\n",
            "5 9\n",
            "1998/1998 [==============================] - 0s 222us/step\n",
            "[0.13923209939931366, 0.20770770773008182]\n",
            "6 0\n",
            "1998/1998 [==============================] - 0s 217us/step\n",
            "[0.14299554891653127, 0.18568568570060176]\n",
            "6 1\n",
            "1998/1998 [==============================] - 0s 223us/step\n",
            "[0.12251383105704973, 0.17617617626567264]\n",
            "6 2\n",
            "1998/1998 [==============================] - 0s 215us/step\n",
            "[0.18832481808371251, 0.25825825834775473]\n",
            "6 3\n",
            "1998/1998 [==============================] - 0s 215us/step\n",
            "[0.1838664028558645, 0.2612612613209256]\n",
            "6 4\n",
            "1998/1998 [==============================] - 0s 213us/step\n",
            "[0.1666756626125332, 0.2377377378272342]\n",
            "6 5\n",
            "1998/1998 [==============================] - 0s 226us/step\n",
            "[0.16148248658673064, 0.2217217217366378]\n",
            "6 6\n",
            "1998/1998 [==============================] - 0s 219us/step\n",
            "[0.6144670128702998, 0.6656656657849943]\n",
            "6 7\n",
            "1998/1998 [==============================] - 0s 217us/step\n",
            "[0.12792443776423032, 0.18118118119609725]\n",
            "6 8\n",
            "1998/1998 [==============================] - 0s 215us/step\n",
            "[0.12439566101129348, 0.17517517519009126]\n",
            "6 9\n",
            "1998/1998 [==============================] - 0s 224us/step\n",
            "[0.12490955049599016, 0.17967967969459575]\n",
            "7 0\n",
            "1998/1998 [==============================] - 0s 216us/step\n",
            "[0.11148884856665099, 0.16016016016016016]\n",
            "7 1\n",
            "1998/1998 [==============================] - 0s 213us/step\n",
            "[0.10279155024294709, 0.15265265265265265]\n",
            "7 2\n",
            "1998/1998 [==============================] - 0s 216us/step\n",
            "[0.14503098867304093, 0.2072072072072072]\n",
            "7 3\n",
            "1998/1998 [==============================] - 0s 213us/step\n",
            "[0.1635880568199926, 0.22172172172172172]\n",
            "7 4\n",
            "1998/1998 [==============================] - 0s 223us/step\n",
            "[0.18232362119255363, 0.2502502502502503]\n",
            "7 5\n",
            "1998/1998 [==============================] - 0s 214us/step\n",
            "[0.1763953165159569, 0.23773773778248597]\n",
            "7 6\n",
            "1998/1998 [==============================] - 0s 223us/step\n",
            "[0.10966251100468505, 0.15965965965965967]\n",
            "7 7\n",
            "1998/1998 [==============================] - 0s 216us/step\n",
            "[0.5962050860231226, 0.6441441441441441]\n",
            "7 8\n",
            "1998/1998 [==============================] - 0s 217us/step\n",
            "[0.10741847535750051, 0.15715715715715717]\n",
            "7 9\n",
            "1998/1998 [==============================] - 0s 219us/step\n",
            "[0.10518899436823807, 0.15515515515515516]\n",
            "8 0\n",
            "1998/1998 [==============================] - 0s 217us/step\n",
            "[0.257418675316466, 0.38638638641621853]\n",
            "8 1\n",
            "1998/1998 [==============================] - 0s 214us/step\n",
            "[0.15643977449537516, 0.1901901902125643]\n",
            "8 2\n",
            "1998/1998 [==============================] - 0s 220us/step\n",
            "[0.13902594835252255, 0.1666666667114149]\n",
            "8 3\n",
            "1998/1998 [==============================] - 0s 217us/step\n",
            "[0.12754773875107397, 0.15665665667903078]\n",
            "8 4\n",
            "1998/1998 [==============================] - 0s 217us/step\n",
            "[0.12784028231530814, 0.15815815818053228]\n",
            "8 5\n",
            "1998/1998 [==============================] - 0s 216us/step\n",
            "[0.12538494919990753, 0.15415415417652828]\n",
            "8 6\n",
            "1998/1998 [==============================] - 0s 220us/step\n",
            "[0.12274478330417676, 0.14814814817052227]\n",
            "8 7\n",
            "1998/1998 [==============================] - 0s 215us/step\n",
            "[0.1240295253589645, 0.15165165167402578]\n",
            "8 8\n",
            "1998/1998 [==============================] - 0s 220us/step\n",
            "[0.6128161375348393, 0.6386386388176316]\n",
            "8 9\n",
            "1998/1998 [==============================] - 0s 213us/step\n",
            "[0.18055025617908071, 0.21271271275746095]\n",
            "9 0\n",
            "1998/1998 [==============================] - 0s 217us/step\n",
            "[0.11263452734317149, 0.1381381382276346]\n",
            "9 1\n",
            "1998/1998 [==============================] - 0s 218us/step\n",
            "[0.37756602965795005, 0.5115115116905045]\n",
            "9 2\n",
            "1998/1998 [==============================] - 0s 214us/step\n",
            "[0.08173111955951284, 0.09709709714184533]\n",
            "9 3\n",
            "1998/1998 [==============================] - 0s 219us/step\n",
            "[0.08697804225398018, 0.10360360364835183]\n",
            "9 4\n",
            "1998/1998 [==============================] - 0s 214us/step\n",
            "[0.07902499236860075, 0.09309309313784132]\n",
            "9 5\n",
            "1998/1998 [==============================] - 0s 218us/step\n",
            "[0.0858561445076067, 0.10160160164634983]\n",
            "9 6\n",
            "1998/1998 [==============================] - 0s 218us/step\n",
            "[0.08296647221148312, 0.09959959964434784]\n",
            "9 7\n",
            "1998/1998 [==============================] - 0s 216us/step\n",
            "[0.08150784289455032, 0.09659659664134483]\n",
            "9 8\n",
            "1998/1998 [==============================] - 0s 223us/step\n",
            "[0.14025805158180757, 0.15965965967457574]\n",
            "9 9\n",
            "1998/1998 [==============================] - 0s 216us/step\n",
            "[0.5725239341084782, 0.5855855855259213]\n"
          ],
          "name": "stdout"
        }
      ]
    }
  ]
}